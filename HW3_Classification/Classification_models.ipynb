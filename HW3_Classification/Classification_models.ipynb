{
 "cells": [
  {
   "cell_type": "markdown",
   "metadata": {},
   "source": [
    "# ENPM808W: HW3"
   ]
  },
  {
   "cell_type": "code",
   "execution_count": 1,
   "metadata": {},
   "outputs": [],
   "source": [
    "import pandas as pd\n",
    "import numpy as np\n",
    "import seaborn as sns\n",
    "import os\n",
    "from sklearn.linear_model import LogisticRegression\n",
    "from sklearn.tree import DecisionTreeClassifier\n",
    "from sklearn.svm import SVC\n",
    "from sklearn.metrics import confusion_matrix\n",
    "from sklearn.metrics import accuracy_score"
   ]
  },
  {
   "cell_type": "code",
   "execution_count": 2,
   "metadata": {},
   "outputs": [],
   "source": [
    "cwd = os.getcwd()\n",
    "train_data_path = os.path.join(cwd, 'Quiz_bowl_data', 'qb.train.csv')\n",
    "test_data_path = os.path.join(cwd, 'Quiz_bowl_data', 'qb.test.csv')"
   ]
  },
  {
   "cell_type": "markdown",
   "metadata": {},
   "source": [
    "## Load and preview Data"
   ]
  },
  {
   "cell_type": "code",
   "execution_count": 3,
   "metadata": {},
   "outputs": [
    {
     "data": {
      "text/html": [
       "<div>\n",
       "<style scoped>\n",
       "    .dataframe tbody tr th:only-of-type {\n",
       "        vertical-align: middle;\n",
       "    }\n",
       "\n",
       "    .dataframe tbody tr th {\n",
       "        vertical-align: top;\n",
       "    }\n",
       "\n",
       "    .dataframe thead th {\n",
       "        text-align: right;\n",
       "    }\n",
       "</style>\n",
       "<table border=\"1\" class=\"dataframe\">\n",
       "  <thead>\n",
       "    <tr style=\"text-align: right;\">\n",
       "      <th></th>\n",
       "      <th>row</th>\n",
       "      <th>body_score</th>\n",
       "      <th>page</th>\n",
       "      <th>answer</th>\n",
       "      <th>text</th>\n",
       "      <th>category</th>\n",
       "      <th>tournaments</th>\n",
       "      <th>answer_type</th>\n",
       "      <th>corr</th>\n",
       "      <th>inlinks</th>\n",
       "    </tr>\n",
       "  </thead>\n",
       "  <tbody>\n",
       "    <tr>\n",
       "      <th>0</th>\n",
       "      <td>1</td>\n",
       "      <td>127.398036</td>\n",
       "      <td>Comus (John Milton)</td>\n",
       "      <td>Comus (John Milton)</td>\n",
       "      <td>First performed in Ludlow Castle by the childr...</td>\n",
       "      <td>Literature</td>\n",
       "      <td>2000 ACF Nationals</td>\n",
       "      <td>work</td>\n",
       "      <td>True</td>\n",
       "      <td>62</td>\n",
       "    </tr>\n",
       "    <tr>\n",
       "      <th>1</th>\n",
       "      <td>2</td>\n",
       "      <td>50.212336</td>\n",
       "      <td>Circe</td>\n",
       "      <td>Comus (John Milton)</td>\n",
       "      <td>First performed in Ludlow Castle by the childr...</td>\n",
       "      <td>Literature</td>\n",
       "      <td>2000 ACF Nationals</td>\n",
       "      <td>None</td>\n",
       "      <td>False</td>\n",
       "      <td>5</td>\n",
       "    </tr>\n",
       "    <tr>\n",
       "      <th>2</th>\n",
       "      <td>3</td>\n",
       "      <td>44.767071</td>\n",
       "      <td>Satyr</td>\n",
       "      <td>Comus (John Milton)</td>\n",
       "      <td>First performed in Ludlow Castle by the childr...</td>\n",
       "      <td>Literature</td>\n",
       "      <td>2000 ACF Nationals</td>\n",
       "      <td>None</td>\n",
       "      <td>False</td>\n",
       "      <td>6</td>\n",
       "    </tr>\n",
       "    <tr>\n",
       "      <th>3</th>\n",
       "      <td>4</td>\n",
       "      <td>44.058274</td>\n",
       "      <td>Philip K. Dick</td>\n",
       "      <td>Wilfred Owen</td>\n",
       "      <td>This author is convinced by another to publish...</td>\n",
       "      <td>Literature</td>\n",
       "      <td>2009 ACF Winter</td>\n",
       "      <td>people</td>\n",
       "      <td>False</td>\n",
       "      <td>22</td>\n",
       "    </tr>\n",
       "    <tr>\n",
       "      <th>4</th>\n",
       "      <td>5</td>\n",
       "      <td>40.675249</td>\n",
       "      <td>Honore de Balzac</td>\n",
       "      <td>Wilfred Owen</td>\n",
       "      <td>This author is convinced by another to publish...</td>\n",
       "      <td>Literature</td>\n",
       "      <td>2009 ACF Winter</td>\n",
       "      <td>None</td>\n",
       "      <td>False</td>\n",
       "      <td>0</td>\n",
       "    </tr>\n",
       "  </tbody>\n",
       "</table>\n",
       "</div>"
      ],
      "text/plain": [
       "   row  body_score                 page               answer  \\\n",
       "0    1  127.398036  Comus (John Milton)  Comus (John Milton)   \n",
       "1    2   50.212336                Circe  Comus (John Milton)   \n",
       "2    3   44.767071                Satyr  Comus (John Milton)   \n",
       "3    4   44.058274       Philip K. Dick         Wilfred Owen   \n",
       "4    5   40.675249     Honore de Balzac         Wilfred Owen   \n",
       "\n",
       "                                                text    category  \\\n",
       "0  First performed in Ludlow Castle by the childr...  Literature   \n",
       "1  First performed in Ludlow Castle by the childr...  Literature   \n",
       "2  First performed in Ludlow Castle by the childr...  Literature   \n",
       "3  This author is convinced by another to publish...  Literature   \n",
       "4  This author is convinced by another to publish...  Literature   \n",
       "\n",
       "          tournaments answer_type   corr  inlinks  \n",
       "0  2000 ACF Nationals        work   True       62  \n",
       "1  2000 ACF Nationals        None  False        5  \n",
       "2  2000 ACF Nationals        None  False        6  \n",
       "3     2009 ACF Winter      people  False       22  \n",
       "4     2009 ACF Winter        None  False        0  "
      ]
     },
     "execution_count": 3,
     "metadata": {},
     "output_type": "execute_result"
    }
   ],
   "source": [
    "train_data = pd.read_csv(train_data_path)\n",
    "train_data.head()"
   ]
  },
  {
   "cell_type": "code",
   "execution_count": 4,
   "metadata": {},
   "outputs": [
    {
     "data": {
      "text/html": [
       "<div>\n",
       "<style scoped>\n",
       "    .dataframe tbody tr th:only-of-type {\n",
       "        vertical-align: middle;\n",
       "    }\n",
       "\n",
       "    .dataframe tbody tr th {\n",
       "        vertical-align: top;\n",
       "    }\n",
       "\n",
       "    .dataframe thead th {\n",
       "        text-align: right;\n",
       "    }\n",
       "</style>\n",
       "<table border=\"1\" class=\"dataframe\">\n",
       "  <thead>\n",
       "    <tr style=\"text-align: right;\">\n",
       "      <th></th>\n",
       "      <th>row</th>\n",
       "      <th>body_score</th>\n",
       "      <th>page</th>\n",
       "      <th>text</th>\n",
       "      <th>category</th>\n",
       "      <th>tournaments</th>\n",
       "      <th>answer_type</th>\n",
       "      <th>inlinks</th>\n",
       "    </tr>\n",
       "  </thead>\n",
       "  <tbody>\n",
       "    <tr>\n",
       "      <th>0</th>\n",
       "      <td>31</td>\n",
       "      <td>40.023617</td>\n",
       "      <td>Death in Venice</td>\n",
       "      <td>The protagonist of this novella is inspired to...</td>\n",
       "      <td>Literature</td>\n",
       "      <td>2001 ACF Fall</td>\n",
       "      <td>work</td>\n",
       "      <td>4</td>\n",
       "    </tr>\n",
       "    <tr>\n",
       "      <th>1</th>\n",
       "      <td>32</td>\n",
       "      <td>27.538799</td>\n",
       "      <td>The Eye of the World</td>\n",
       "      <td>The protagonist of this novella is inspired to...</td>\n",
       "      <td>Literature</td>\n",
       "      <td>2001 ACF Fall</td>\n",
       "      <td>work</td>\n",
       "      <td>1</td>\n",
       "    </tr>\n",
       "    <tr>\n",
       "      <th>2</th>\n",
       "      <td>33</td>\n",
       "      <td>26.976121</td>\n",
       "      <td>Carmilla</td>\n",
       "      <td>The protagonist of this novella is inspired to...</td>\n",
       "      <td>Literature</td>\n",
       "      <td>2001 ACF Fall</td>\n",
       "      <td>work</td>\n",
       "      <td>2</td>\n",
       "    </tr>\n",
       "    <tr>\n",
       "      <th>3</th>\n",
       "      <td>88</td>\n",
       "      <td>45.848831</td>\n",
       "      <td>A Passage to India</td>\n",
       "      <td>In a symbolic incident in this novel Ronny Hea...</td>\n",
       "      <td>Literature</td>\n",
       "      <td>2001 ACF Regionals</td>\n",
       "      <td>work</td>\n",
       "      <td>5</td>\n",
       "    </tr>\n",
       "    <tr>\n",
       "      <th>4</th>\n",
       "      <td>91</td>\n",
       "      <td>99.811169</td>\n",
       "      <td>The Cherry Orchard</td>\n",
       "      <td>We first meet Fiers, the aging footman, in Act...</td>\n",
       "      <td>Literature</td>\n",
       "      <td>2001 ACF Regionals</td>\n",
       "      <td>work</td>\n",
       "      <td>11</td>\n",
       "    </tr>\n",
       "  </tbody>\n",
       "</table>\n",
       "</div>"
      ],
      "text/plain": [
       "   row  body_score                  page  \\\n",
       "0   31   40.023617       Death in Venice   \n",
       "1   32   27.538799  The Eye of the World   \n",
       "2   33   26.976121              Carmilla   \n",
       "3   88   45.848831    A Passage to India   \n",
       "4   91   99.811169    The Cherry Orchard   \n",
       "\n",
       "                                                text    category  \\\n",
       "0  The protagonist of this novella is inspired to...  Literature   \n",
       "1  The protagonist of this novella is inspired to...  Literature   \n",
       "2  The protagonist of this novella is inspired to...  Literature   \n",
       "3  In a symbolic incident in this novel Ronny Hea...  Literature   \n",
       "4  We first meet Fiers, the aging footman, in Act...  Literature   \n",
       "\n",
       "          tournaments answer_type  inlinks  \n",
       "0       2001 ACF Fall        work        4  \n",
       "1       2001 ACF Fall        work        1  \n",
       "2       2001 ACF Fall        work        2  \n",
       "3  2001 ACF Regionals        work        5  \n",
       "4  2001 ACF Regionals        work       11  "
      ]
     },
     "execution_count": 4,
     "metadata": {},
     "output_type": "execute_result"
    }
   ],
   "source": [
    "test_data = pd.read_csv(test_data_path)\n",
    "test_data.head()"
   ]
  },
  {
   "cell_type": "markdown",
   "metadata": {},
   "source": [
    "## Information about data"
   ]
  },
  {
   "cell_type": "code",
   "execution_count": 5,
   "metadata": {},
   "outputs": [
    {
     "data": {
      "text/html": [
       "<div>\n",
       "<style scoped>\n",
       "    .dataframe tbody tr th:only-of-type {\n",
       "        vertical-align: middle;\n",
       "    }\n",
       "\n",
       "    .dataframe tbody tr th {\n",
       "        vertical-align: top;\n",
       "    }\n",
       "\n",
       "    .dataframe thead th {\n",
       "        text-align: right;\n",
       "    }\n",
       "</style>\n",
       "<table border=\"1\" class=\"dataframe\">\n",
       "  <thead>\n",
       "    <tr style=\"text-align: right;\">\n",
       "      <th></th>\n",
       "      <th>row</th>\n",
       "      <th>body_score</th>\n",
       "      <th>inlinks</th>\n",
       "    </tr>\n",
       "  </thead>\n",
       "  <tbody>\n",
       "    <tr>\n",
       "      <th>count</th>\n",
       "      <td>8079.000000</td>\n",
       "      <td>8079.000000</td>\n",
       "      <td>8079.000000</td>\n",
       "    </tr>\n",
       "    <tr>\n",
       "      <th>mean</th>\n",
       "      <td>6925.462805</td>\n",
       "      <td>58.712909</td>\n",
       "      <td>70.683253</td>\n",
       "    </tr>\n",
       "    <tr>\n",
       "      <th>std</th>\n",
       "      <td>4010.872917</td>\n",
       "      <td>40.023035</td>\n",
       "      <td>541.807126</td>\n",
       "    </tr>\n",
       "    <tr>\n",
       "      <th>min</th>\n",
       "      <td>1.000000</td>\n",
       "      <td>0.000000</td>\n",
       "      <td>0.000000</td>\n",
       "    </tr>\n",
       "    <tr>\n",
       "      <th>25%</th>\n",
       "      <td>3500.500000</td>\n",
       "      <td>32.073499</td>\n",
       "      <td>4.000000</td>\n",
       "    </tr>\n",
       "    <tr>\n",
       "      <th>50%</th>\n",
       "      <td>6905.000000</td>\n",
       "      <td>49.067585</td>\n",
       "      <td>15.000000</td>\n",
       "    </tr>\n",
       "    <tr>\n",
       "      <th>75%</th>\n",
       "      <td>10370.500000</td>\n",
       "      <td>71.922447</td>\n",
       "      <td>45.000000</td>\n",
       "    </tr>\n",
       "    <tr>\n",
       "      <th>max</th>\n",
       "      <td>13924.000000</td>\n",
       "      <td>359.077342</td>\n",
       "      <td>43182.000000</td>\n",
       "    </tr>\n",
       "  </tbody>\n",
       "</table>\n",
       "</div>"
      ],
      "text/plain": [
       "                row   body_score       inlinks\n",
       "count   8079.000000  8079.000000   8079.000000\n",
       "mean    6925.462805    58.712909     70.683253\n",
       "std     4010.872917    40.023035    541.807126\n",
       "min        1.000000     0.000000      0.000000\n",
       "25%     3500.500000    32.073499      4.000000\n",
       "50%     6905.000000    49.067585     15.000000\n",
       "75%    10370.500000    71.922447     45.000000\n",
       "max    13924.000000   359.077342  43182.000000"
      ]
     },
     "execution_count": 5,
     "metadata": {},
     "output_type": "execute_result"
    }
   ],
   "source": [
    "train_data.describe()"
   ]
  },
  {
   "cell_type": "code",
   "execution_count": 6,
   "metadata": {},
   "outputs": [
    {
     "name": "stdout",
     "output_type": "stream",
     "text": [
      "<class 'pandas.core.frame.DataFrame'>\n",
      "RangeIndex: 8079 entries, 0 to 8078\n",
      "Data columns (total 10 columns):\n",
      " #   Column       Non-Null Count  Dtype  \n",
      "---  ------       --------------  -----  \n",
      " 0   row          8079 non-null   int64  \n",
      " 1   body_score   8079 non-null   float64\n",
      " 2   page         8079 non-null   object \n",
      " 3   answer       8079 non-null   object \n",
      " 4   text         8079 non-null   object \n",
      " 5   category     8079 non-null   object \n",
      " 6   tournaments  8079 non-null   object \n",
      " 7   answer_type  8079 non-null   object \n",
      " 8   corr         8079 non-null   bool   \n",
      " 9   inlinks      8079 non-null   int64  \n",
      "dtypes: bool(1), float64(1), int64(2), object(6)\n",
      "memory usage: 576.1+ KB\n"
     ]
    }
   ],
   "source": [
    "train_data.info()"
   ]
  },
  {
   "cell_type": "markdown",
   "metadata": {},
   "source": [
    "## Value counts for categorical data"
   ]
  },
  {
   "cell_type": "code",
   "execution_count": 7,
   "metadata": {},
   "outputs": [
    {
     "data": {
      "text/plain": [
       "people    3051\n",
       "work      2895\n",
       "None      1617\n",
       "char       293\n",
       "place       71\n",
       "org         68\n",
       "abs         46\n",
       "event       19\n",
       "anim        19\n",
       "Name: answer_type, dtype: int64"
      ]
     },
     "execution_count": 7,
     "metadata": {},
     "output_type": "execute_result"
    }
   ],
   "source": [
    "train_data['answer_type'].value_counts()"
   ]
  },
  {
   "cell_type": "code",
   "execution_count": 8,
   "metadata": {},
   "outputs": [
    {
     "data": {
      "text/plain": [
       "False    4478\n",
       "True     3601\n",
       "Name: corr, dtype: int64"
      ]
     },
     "execution_count": 8,
     "metadata": {},
     "output_type": "execute_result"
    }
   ],
   "source": [
    "train_data['corr'].value_counts()"
   ]
  },
  {
   "cell_type": "code",
   "execution_count": 9,
   "metadata": {},
   "outputs": [
    {
     "data": {
      "text/plain": [
       "Literature    8079\n",
       "Name: category, dtype: int64"
      ]
     },
     "execution_count": 9,
     "metadata": {},
     "output_type": "execute_result"
    }
   ],
   "source": [
    "train_data['category'].value_counts()"
   ]
  },
  {
   "cell_type": "code",
   "execution_count": 10,
   "metadata": {},
   "outputs": [
    {
     "data": {
      "text/plain": [
       "2007 Chicago Open Literature Singles           375\n",
       "2008 Chicago Open Literature Singles           328\n",
       "2007 Illinois Open Literature Doubles          273\n",
       "2001 ACF Regionals                             167\n",
       "1999 ACF Regionals                             166\n",
       "                                              ... \n",
       "2008 The July Crisis                             9\n",
       "2010 Mildly Experimental Literature Doubles      5\n",
       "2010 Penn Bowl                                   4\n",
       "2010 Chicago Open                                3\n",
       "2009 Missouri Open                               3\n",
       "Name: tournaments, Length: 76, dtype: int64"
      ]
     },
     "execution_count": 10,
     "metadata": {},
     "output_type": "execute_result"
    }
   ],
   "source": [
    "train_data['tournaments'].value_counts()"
   ]
  },
  {
   "cell_type": "markdown",
   "metadata": {},
   "source": [
    "## Answer 2.  Classifier using existing data"
   ]
  },
  {
   "cell_type": "markdown",
   "metadata": {},
   "source": [
    "## Exploratory data analysis"
   ]
  },
  {
   "cell_type": "markdown",
   "metadata": {},
   "source": [
    "### 1. Distribution of body score\n",
    "\n",
    "* We can see that a high body score correlates to a correct answer"
   ]
  },
  {
   "cell_type": "code",
   "execution_count": 11,
   "metadata": {},
   "outputs": [
    {
     "data": {
      "image/png": "[encoded data removed]",
      "text/plain": [
       "<Figure size 421.25x360 with 1 Axes>"
      ]
     },
     "metadata": {
      "needs_background": "light"
     },
     "output_type": "display_data"
    }
   ],
   "source": [
    "ax1 = sns.displot(data=train_data, x='body_score', hue='corr')"
   ]
  },
  {
   "cell_type": "markdown",
   "metadata": {},
   "source": [
    "### 2. Distribution of answer type"
   ]
  },
  {
   "cell_type": "code",
   "execution_count": 12,
   "metadata": {},
   "outputs": [
    {
     "data": {
      "image/png": "[encoded data removed]",
      "text/plain": [
       "<Figure size 781.25x360 with 1 Axes>"
      ]
     },
     "metadata": {
      "needs_background": "light"
     },
     "output_type": "display_data"
    }
   ],
   "source": [
    "ax2 = sns.displot(data=train_data, x='answer_type', hue='corr', multiple='dodge', height=5, aspect=2)"
   ]
  },
  {
   "cell_type": "markdown",
   "metadata": {},
   "source": [
    "### 3. Check if distribution of body score varies by answer type"
   ]
  },
  {
   "cell_type": "code",
   "execution_count": 13,
   "metadata": {},
   "outputs": [
    {
     "data": {
      "image/png": "[encoded data removed]",
      "text/plain": [
       "<Figure size 1141.25x1080 with 9 Axes>"
      ]
     },
     "metadata": {
      "needs_background": "light"
     },
     "output_type": "display_data"
    }
   ],
   "source": [
    "ax3 = sns.displot(data=train_data, x='body_score', hue='corr', col='answer_type', col_wrap=3)"
   ]
  },
  {
   "cell_type": "markdown",
   "metadata": {},
   "source": [
    "### 4. Distribution of inlinks"
   ]
  },
  {
   "cell_type": "code",
   "execution_count": 14,
   "metadata": {},
   "outputs": [
    {
     "data": {
      "image/png": "[encoded data removed]",
      "text/plain": [
       "<Figure size 421.25x360 with 1 Axes>"
      ]
     },
     "metadata": {
      "needs_background": "light"
     },
     "output_type": "display_data"
    }
   ],
   "source": [
    "train_data['inlinks']+=1\n",
    "train_data['log_inlinks'] = np.log2(train_data['inlinks'])\n",
    "ax4 = sns.displot(data=train_data, x='log_inlinks', hue='corr')"
   ]
  },
  {
   "cell_type": "markdown",
   "metadata": {},
   "source": [
    "## Classifier using existing data -- Split into train/ dev data\n",
    "\n",
    "* I'm using the following columns in my training data -- 1) log of inlinks 2) body_score\n",
    "* I've split the training data into test and dev using in the ratio of 80-20."
   ]
  },
  {
   "cell_type": "code",
   "execution_count": 15,
   "metadata": {},
   "outputs": [],
   "source": [
    "num_train = train_data.shape[0]\n",
    "train_x = pd.DataFrame(train_data[:int(0.8*num_train)], columns=['log_inlinks', 'body_score'])\n",
    "train_y = pd.DataFrame(train_data[:int(0.8*num_train)], columns=['corr'])\n",
    "dev_x = pd.DataFrame(train_data[int(0.8*num_train):], columns=['log_inlinks', 'body_score'])\n",
    "dev_y = pd.DataFrame(train_data[int(0.8*num_train):], columns=['corr'])"
   ]
  },
  {
   "cell_type": "markdown",
   "metadata": {},
   "source": [
    "### 1. Logistic Regression"
   ]
  },
  {
   "cell_type": "code",
   "execution_count": 16,
   "metadata": {},
   "outputs": [
    {
     "name": "stdout",
     "output_type": "stream",
     "text": [
      "Confusion matrix: \n",
      " [[726 183]\n",
      " [354 353]] \n",
      "\n",
      "The accuracy score: 0.6676980198019802 \n",
      "\n",
      "True negatives : 726\n",
      "False positives : 183\n",
      "False negatives : 354\n",
      "True positives : 353\n"
     ]
    },
    {
     "name": "stderr",
     "output_type": "stream",
     "text": [
      "/Users/gauharbains/opt/anaconda3/lib/python3.8/site-packages/sklearn/utils/validation.py:73: DataConversionWarning: A column-vector y was passed when a 1d array was expected. Please change the shape of y to (n_samples, ), for example using ravel().\n",
      "  return f(**kwargs)\n"
     ]
    }
   ],
   "source": [
    "# fit model\n",
    "logistic_model = LogisticRegression()\n",
    "logistic_model.fit(train_x, train_y)\n",
    "\n",
    "# prediction\n",
    "y_pred = logistic_model.predict(dev_x)\n",
    "\n",
    "# confusion matrix\n",
    "cm = confusion_matrix(dev_y, y_pred)\n",
    "accuracy = accuracy_score(dev_y, y_pred)\n",
    "tn, fp, fn, tp = cm.ravel()\n",
    "\n",
    "# print results\n",
    "print(\"Confusion matrix: \\n {} \\n\".format(cm))\n",
    "print(\"The accuracy score: {} \\n\".format(accuracy))\n",
    "print('True negatives : {}'.format(tn))\n",
    "print('False positives : {}'.format(fp))\n",
    "print('False negatives : {}'.format(fn))\n",
    "print('True positives : {}'.format(tp))"
   ]
  },
  {
   "cell_type": "markdown",
   "metadata": {},
   "source": [
    "### 2. SVM"
   ]
  },
  {
   "cell_type": "code",
   "execution_count": 17,
   "metadata": {},
   "outputs": [
    {
     "name": "stderr",
     "output_type": "stream",
     "text": [
      "/Users/gauharbains/opt/anaconda3/lib/python3.8/site-packages/sklearn/utils/validation.py:73: DataConversionWarning: A column-vector y was passed when a 1d array was expected. Please change the shape of y to (n_samples, ), for example using ravel().\n",
      "  return f(**kwargs)\n"
     ]
    },
    {
     "name": "stdout",
     "output_type": "stream",
     "text": [
      "Confusion matrix: \n",
      " [[866  43]\n",
      " [312 395]] \n",
      "\n",
      "The accuracy score: 0.7803217821782178 \n",
      "\n",
      "True negatives : 866\n",
      "False positives : 43\n",
      "False negatives : 312\n",
      "True positives : 395\n"
     ]
    }
   ],
   "source": [
    "# fit model\n",
    "svm_model = SVC()\n",
    "svm_model.fit(train_x, train_y)\n",
    "\n",
    "# prediction\n",
    "y_pred = svm_model.predict(dev_x)\n",
    "\n",
    "# confusion matrix and accuracy\n",
    "cm = confusion_matrix(dev_y, y_pred)\n",
    "accuracy = accuracy_score(dev_y, y_pred)\n",
    "tn, fp, fn, tp = cm.ravel()\n",
    "\n",
    "# print results\n",
    "print(\"Confusion matrix: \\n {} \\n\".format(cm))\n",
    "print(\"The accuracy score: {} \\n\".format(accuracy))\n",
    "print('True negatives : {}'.format(tn))\n",
    "print('False positives : {}'.format(fp))\n",
    "print('False negatives : {}'.format(fn))\n",
    "print('True positives : {}'.format(tp))"
   ]
  },
  {
   "cell_type": "markdown",
   "metadata": {},
   "source": [
    "### 3. Decision Trees"
   ]
  },
  {
   "cell_type": "code",
   "execution_count": 18,
   "metadata": {},
   "outputs": [
    {
     "name": "stdout",
     "output_type": "stream",
     "text": [
      "Confusion matrix: \n",
      " [[626 283]\n",
      " [222 485]] \n",
      "\n",
      "The accuracy score: 0.6875 \n",
      "\n",
      "True negatives : 626\n",
      "False positives : 283\n",
      "False negatives : 222\n",
      "True positives : 485\n"
     ]
    }
   ],
   "source": [
    "# fit model\n",
    "tree_model = DecisionTreeClassifier()\n",
    "tree_model.fit(train_x, train_y)\n",
    "\n",
    "# prediction\n",
    "y_pred = tree_model.predict(dev_x)\n",
    "\n",
    "# confusion matrix\n",
    "cm = confusion_matrix(dev_y, y_pred)\n",
    "accuracy = accuracy_score(dev_y, y_pred)\n",
    "tn, fp, fn, tp = cm.ravel()\n",
    "\n",
    "# print results\n",
    "print(\"Confusion matrix: \\n {} \\n\".format(cm))\n",
    "print(\"The accuracy score: {} \\n\".format(accuracy))\n",
    "print('True negatives : {}'.format(tn))\n",
    "print('False positives : {}'.format(fp))\n",
    "print('False negatives : {}'.format(fn))\n",
    "print('True positives : {}'.format(tp))"
   ]
  },
  {
   "cell_type": "markdown",
   "metadata": {},
   "source": [
    "## Results"
   ]
  },
  {
   "cell_type": "markdown",
   "metadata": {},
   "source": [
    "* As stated earlier, the training data was split into train and dev in the ratio of 80/20\n",
    "* The performance of the classifier was analyzed on the dev data.\n",
    "* SVM classifier gives us the best performance -- with an accuracy score of 0.783. \n",
    "* Decision trees are second best at 0.684 followed by logistic regression at 0.67.\n",
    "* From the confusion matrix we can see that in each case a high number of false negatives is affecting the accuracy score.   \n",
    "  For example in the SVM classifier the ratio of false positives to false negatives is 1:8. "
   ]
  },
  {
   "cell_type": "markdown",
   "metadata": {},
   "source": [
    "## Answer 3. Finding additional features from given data"
   ]
  },
  {
   "cell_type": "markdown",
   "metadata": {},
   "source": [
    "### 1.   Feature : length of text revealed\n",
    "\n",
    "This can help us improve our prediction as intuitively the length of text revealed should have relation with whether the guess is correct or not.   \n",
    "Cases where a large proportion of the questions is revealed should have better guesses. "
   ]
  },
  {
   "cell_type": "code",
   "execution_count": 19,
   "metadata": {},
   "outputs": [],
   "source": [
    "train_data['len_text'] = [ len(i.split(' ')) for i in train_data['text']]\n",
    "test_data['len_text'] = [ len(i.split(' ')) for i in test_data['text']]"
   ]
  },
  {
   "cell_type": "code",
   "execution_count": 20,
   "metadata": {},
   "outputs": [
    {
     "data": {
      "image/png": "[encoded data removed]",
      "text/plain": [
       "<Figure size 421.25x360 with 1 Axes>"
      ]
     },
     "metadata": {
      "needs_background": "light"
     },
     "output_type": "display_data"
    }
   ],
   "source": [
    "ax4 = sns.displot(data=train_data, x='len_text', hue='corr', kind='kde')"
   ]
  },
  {
   "cell_type": "markdown",
   "metadata": {},
   "source": [
    "### 2. Feature: Ratio of len_text and inlinks\n",
    "\n",
    "* To create a new feature out of the existing data -- I took ratio of len_text revealed to the number of inlinks on the guessed wikipedia page. \n",
    "* The intuition behind this is that greater the amount of text revealed, higher the chance that the ansewr is correct. On the other hand, lesser number of\n",
    "  inlinks in the guessed wikipedia page attribute to a higher chance that the answer is correct.\n",
    "* Combining these two into a single feature -- a higher value if this new feature should indicate a higher chance that a guess is correct and vice versa.   \n",
    "  This is because length of text is in the numerator and number of inlinks is in the denominator. \n"
   ]
  },
  {
   "cell_type": "code",
   "execution_count": 21,
   "metadata": {},
   "outputs": [],
   "source": [
    "train_data['new_feature'] = [train_data['len_text'][i]/(train_data['inlinks'][i]+1) for i in range(len(train_data['inlinks']))]"
   ]
  },
  {
   "cell_type": "code",
   "execution_count": 22,
   "metadata": {},
   "outputs": [
    {
     "data": {
      "image/png": "[encoded data removed]",
      "text/plain": [
       "<Figure size 421.25x360 with 1 Axes>"
      ]
     },
     "metadata": {
      "needs_background": "light"
     },
     "output_type": "display_data"
    }
   ],
   "source": [
    "ax4 = sns.displot(data=train_data, x='new_feature', hue='corr', kind='kde')"
   ]
  },
  {
   "cell_type": "markdown",
   "metadata": {},
   "source": [
    "### Training a classifier using only this feature"
   ]
  },
  {
   "cell_type": "code",
   "execution_count": 23,
   "metadata": {},
   "outputs": [],
   "source": [
    "train_x = pd.DataFrame(train_data[:int(0.8*num_train)], columns=['new_feature'])\n",
    "train_y = pd.DataFrame(train_data[:int(0.8*num_train)], columns=['corr'])\n",
    "dev_x = pd.DataFrame(train_data[int(0.8*num_train):], columns=['new_feature'])\n",
    "dev_y = pd.DataFrame(train_data[int(0.8*num_train):], columns=['corr'])\n"
   ]
  },
  {
   "cell_type": "code",
   "execution_count": 24,
   "metadata": {},
   "outputs": [
    {
     "name": "stderr",
     "output_type": "stream",
     "text": [
      "/Users/gauharbains/opt/anaconda3/lib/python3.8/site-packages/sklearn/utils/validation.py:73: DataConversionWarning: A column-vector y was passed when a 1d array was expected. Please change the shape of y to (n_samples, ), for example using ravel().\n",
      "  return f(**kwargs)\n"
     ]
    },
    {
     "name": "stdout",
     "output_type": "stream",
     "text": [
      "The accuracy score in dev data: 0.6373762376237624\n",
      "The accuracy score on train data: 0.6244777966888442 \n",
      "\n"
     ]
    }
   ],
   "source": [
    "# fit model\n",
    "model = SVC()\n",
    "model.fit(train_x, train_y)\n",
    "\n",
    "# prediction\n",
    "y_pred = model.predict(dev_x)\n",
    "y_train_pred = model.predict(train_x)\n",
    "\n",
    "# confusion matrix\n",
    "accuracy = accuracy_score(dev_y, y_pred)\n",
    "accuracy_train = accuracy_score(train_y, y_train_pred)\n",
    "\n",
    "print(\"The accuracy score in dev data: {}\".format(accuracy))\n",
    "print(\"The accuracy score on train data: {} \\n\".format(accuracy_train))"
   ]
  },
  {
   "cell_type": "markdown",
   "metadata": {},
   "source": [
    "### Training a classifier using this feature in combination with other features from part 1"
   ]
  },
  {
   "cell_type": "code",
   "execution_count": 25,
   "metadata": {},
   "outputs": [],
   "source": [
    "train_x = pd.DataFrame(train_data[:int(0.8*num_train)], columns=['log_inlinks', 'body_score', 'new_feature'])\n",
    "train_y = pd.DataFrame(train_data[:int(0.8*num_train)], columns=['corr'])\n",
    "dev_x = pd.DataFrame(train_data[int(0.8*num_train):], columns=['log_inlinks', 'body_score', 'new_feature'])\n",
    "dev_y = pd.DataFrame(train_data[int(0.8*num_train):], columns=['corr'])"
   ]
  },
  {
   "cell_type": "code",
   "execution_count": 26,
   "metadata": {},
   "outputs": [
    {
     "name": "stderr",
     "output_type": "stream",
     "text": [
      "/Users/gauharbains/opt/anaconda3/lib/python3.8/site-packages/sklearn/utils/validation.py:73: DataConversionWarning: A column-vector y was passed when a 1d array was expected. Please change the shape of y to (n_samples, ), for example using ravel().\n",
      "  return f(**kwargs)\n"
     ]
    },
    {
     "name": "stdout",
     "output_type": "stream",
     "text": [
      "The accuracy score in dev data: 0.7852722772277227\n",
      "The accuracy score on train data: 0.7672907318582701 \n",
      "\n"
     ]
    }
   ],
   "source": [
    "# fit model\n",
    "model = SVC()\n",
    "model.fit(train_x, train_y)\n",
    "\n",
    "# prediction\n",
    "y_pred = model.predict(dev_x)\n",
    "y_train_pred = model.predict(train_x)\n",
    "\n",
    "# confusion matrix\n",
    "accuracy = accuracy_score(dev_y, y_pred)\n",
    "accuracy_train = accuracy_score(train_y, y_train_pred)\n",
    "\n",
    "print(\"The accuracy score in dev data: {}\".format(accuracy))\n",
    "print(\"The accuracy score on train data: {} \\n\".format(accuracy_train))"
   ]
  },
  {
   "cell_type": "markdown",
   "metadata": {},
   "source": [
    "## Results\n",
    "\n",
    "* It can be seen from the plot of distributions above that there is a diffrent between the distribution of our new feature when guess is correct or not correct\n",
    "* When a classifier is trained using only the new feature we get an accuracy of 64%\n",
    "* When we train a classifier using this new feautre in combination with the data from previous part we get an accuracy of 78.5% which is slight improvement when compared to \n",
    "  the results in part 1. "
   ]
  }
 ],
 "metadata": {
  "kernelspec": {
   "display_name": "Python 3",
   "language": "python",
   "name": "python3"
  },
  "language_info": {
   "codemirror_mode": {
    "name": "ipython",
    "version": 3
   },
   "file_extension": ".py",
   "mimetype": "text/x-python",
   "name": "python",
   "nbconvert_exporter": "python",
   "pygments_lexer": "ipython3",
   "version": "3.8.3"
  }
 },
 "nbformat": 4,
 "nbformat_minor": 4
}
