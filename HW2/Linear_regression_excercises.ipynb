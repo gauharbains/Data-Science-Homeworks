{
 "cells": [
  {
   "cell_type": "markdown",
   "metadata": {},
   "source": [
    "# ENPM 808W Homework 2 \n",
    "\n",
    "### Question 2 and 3"
   ]
  },
  {
   "cell_type": "code",
   "execution_count": 21,
   "metadata": {},
   "outputs": [],
   "source": [
    "import pandas as pd\n",
    "import numpy as np\n",
    "import seaborn as sns\n",
    "import os\n",
    "from sklearn.linear_model import LinearRegression\n",
    "from sklearn.metrics import mean_squared_error"
   ]
  },
  {
   "cell_type": "code",
   "execution_count": 22,
   "metadata": {},
   "outputs": [],
   "source": [
    "cwd = os.getcwd()\n",
    "data_path = os.path.join(cwd,'Housing_data')"
   ]
  },
  {
   "cell_type": "markdown",
   "metadata": {},
   "source": [
    "## 1 . Load and view training data"
   ]
  },
  {
   "cell_type": "code",
   "execution_count": 23,
   "metadata": {},
   "outputs": [
    {
     "data": {
      "text/html": [
       "<div>\n",
       "<style scoped>\n",
       "    .dataframe tbody tr th:only-of-type {\n",
       "        vertical-align: middle;\n",
       "    }\n",
       "\n",
       "    .dataframe tbody tr th {\n",
       "        vertical-align: top;\n",
       "    }\n",
       "\n",
       "    .dataframe thead th {\n",
       "        text-align: right;\n",
       "    }\n",
       "</style>\n",
       "<table border=\"1\" class=\"dataframe\">\n",
       "  <thead>\n",
       "    <tr style=\"text-align: right;\">\n",
       "      <th></th>\n",
       "      <th>id</th>\n",
       "      <th>zip</th>\n",
       "      <th>state</th>\n",
       "      <th>county</th>\n",
       "      <th>poverty</th>\n",
       "      <th>price2007</th>\n",
       "      <th>price2013</th>\n",
       "    </tr>\n",
       "  </thead>\n",
       "  <tbody>\n",
       "    <tr>\n",
       "      <th>0</th>\n",
       "      <td>0</td>\n",
       "      <td>10467</td>\n",
       "      <td>NY</td>\n",
       "      <td>bronx</td>\n",
       "      <td>27.1</td>\n",
       "      <td>335200</td>\n",
       "      <td>294000</td>\n",
       "    </tr>\n",
       "    <tr>\n",
       "      <th>1</th>\n",
       "      <td>1</td>\n",
       "      <td>11226</td>\n",
       "      <td>NY</td>\n",
       "      <td>kings</td>\n",
       "      <td>21.9</td>\n",
       "      <td>471500</td>\n",
       "      <td>471600</td>\n",
       "    </tr>\n",
       "    <tr>\n",
       "      <th>2</th>\n",
       "      <td>2</td>\n",
       "      <td>60640</td>\n",
       "      <td>IL</td>\n",
       "      <td>cook</td>\n",
       "      <td>14.6</td>\n",
       "      <td>254600</td>\n",
       "      <td>174200</td>\n",
       "    </tr>\n",
       "    <tr>\n",
       "      <th>3</th>\n",
       "      <td>3</td>\n",
       "      <td>94109</td>\n",
       "      <td>CA</td>\n",
       "      <td>san francisco</td>\n",
       "      <td>10.6</td>\n",
       "      <td>707100</td>\n",
       "      <td>822600</td>\n",
       "    </tr>\n",
       "    <tr>\n",
       "      <th>4</th>\n",
       "      <td>4</td>\n",
       "      <td>11375</td>\n",
       "      <td>NY</td>\n",
       "      <td>queens</td>\n",
       "      <td>12.2</td>\n",
       "      <td>636400</td>\n",
       "      <td>681500</td>\n",
       "    </tr>\n",
       "  </tbody>\n",
       "</table>\n",
       "</div>"
      ],
      "text/plain": [
       "   id    zip state         county  poverty  price2007  price2013\n",
       "0   0  10467    NY          bronx     27.1     335200     294000\n",
       "1   1  11226    NY          kings     21.9     471500     471600\n",
       "2   2  60640    IL           cook     14.6     254600     174200\n",
       "3   3  94109    CA  san francisco     10.6     707100     822600\n",
       "4   4  11375    NY         queens     12.2     636400     681500"
      ]
     },
     "execution_count": 23,
     "metadata": {},
     "output_type": "execute_result"
    }
   ],
   "source": [
    "train_data = pd.read_csv(os.path.join(data_path,'house_train.csv'))\n",
    "train_data.head()"
   ]
  },
  {
   "cell_type": "markdown",
   "metadata": {},
   "source": [
    "## 2. Load and view testing data"
   ]
  },
  {
   "cell_type": "code",
   "execution_count": 24,
   "metadata": {},
   "outputs": [
    {
     "data": {
      "text/html": [
       "<div>\n",
       "<style scoped>\n",
       "    .dataframe tbody tr th:only-of-type {\n",
       "        vertical-align: middle;\n",
       "    }\n",
       "\n",
       "    .dataframe tbody tr th {\n",
       "        vertical-align: top;\n",
       "    }\n",
       "\n",
       "    .dataframe thead th {\n",
       "        text-align: right;\n",
       "    }\n",
       "</style>\n",
       "<table border=\"1\" class=\"dataframe\">\n",
       "  <thead>\n",
       "    <tr style=\"text-align: right;\">\n",
       "      <th></th>\n",
       "      <th>id</th>\n",
       "      <th>zip</th>\n",
       "      <th>state</th>\n",
       "      <th>county</th>\n",
       "      <th>poverty</th>\n",
       "      <th>price2007</th>\n",
       "    </tr>\n",
       "  </thead>\n",
       "  <tbody>\n",
       "    <tr>\n",
       "      <th>0</th>\n",
       "      <td>6</td>\n",
       "      <td>32162</td>\n",
       "      <td>FL</td>\n",
       "      <td>marion</td>\n",
       "      <td>13.0</td>\n",
       "      <td>265600</td>\n",
       "    </tr>\n",
       "    <tr>\n",
       "      <th>1</th>\n",
       "      <td>13</td>\n",
       "      <td>78572</td>\n",
       "      <td>TX</td>\n",
       "      <td>hidalgo</td>\n",
       "      <td>34.0</td>\n",
       "      <td>79900</td>\n",
       "    </tr>\n",
       "    <tr>\n",
       "      <th>2</th>\n",
       "      <td>20</td>\n",
       "      <td>11212</td>\n",
       "      <td>NY</td>\n",
       "      <td>kings</td>\n",
       "      <td>21.9</td>\n",
       "      <td>332000</td>\n",
       "    </tr>\n",
       "    <tr>\n",
       "      <th>3</th>\n",
       "      <td>30</td>\n",
       "      <td>37042</td>\n",
       "      <td>TN</td>\n",
       "      <td>montgomery</td>\n",
       "      <td>12.7</td>\n",
       "      <td>98700</td>\n",
       "    </tr>\n",
       "    <tr>\n",
       "      <th>4</th>\n",
       "      <td>37</td>\n",
       "      <td>85032</td>\n",
       "      <td>AZ</td>\n",
       "      <td>maricopa</td>\n",
       "      <td>12.9</td>\n",
       "      <td>266100</td>\n",
       "    </tr>\n",
       "  </tbody>\n",
       "</table>\n",
       "</div>"
      ],
      "text/plain": [
       "   id    zip state      county  poverty  price2007\n",
       "0   6  32162    FL      marion     13.0     265600\n",
       "1  13  78572    TX     hidalgo     34.0      79900\n",
       "2  20  11212    NY       kings     21.9     332000\n",
       "3  30  37042    TN  montgomery     12.7      98700\n",
       "4  37  85032    AZ    maricopa     12.9     266100"
      ]
     },
     "execution_count": 24,
     "metadata": {},
     "output_type": "execute_result"
    }
   ],
   "source": [
    "test_data = pd.read_csv(os.path.join(data_path,'house_test.csv'))\n",
    "test_data.head()\n",
    "#test_data.shape"
   ]
  },
  {
   "cell_type": "markdown",
   "metadata": {},
   "source": [
    "## 3 .Size of training and testing data"
   ]
  },
  {
   "cell_type": "code",
   "execution_count": 25,
   "metadata": {},
   "outputs": [
    {
     "name": "stdout",
     "output_type": "stream",
     "text": [
      "Number of training examples: 8973\n",
      "Number of testing examples: 1063\n"
     ]
    }
   ],
   "source": [
    "num_train = train_data.shape[0]\n",
    "num_test = test_data.shape[0]\n",
    "print(\"Number of training examples: {}\".format(num_train))\n",
    "print(\"Number of testing examples: {}\".format(num_test))"
   ]
  },
  {
   "cell_type": "markdown",
   "metadata": {},
   "source": [
    "## 4. Inspect for Nan values "
   ]
  },
  {
   "cell_type": "code",
   "execution_count": 26,
   "metadata": {},
   "outputs": [
    {
     "name": "stdout",
     "output_type": "stream",
     "text": [
      "Nan values in training data\n",
      "id           0\n",
      "zip          0\n",
      "state        0\n",
      "county       0\n",
      "poverty      0\n",
      "price2007    0\n",
      "price2013    0\n",
      "dtype: int64\n",
      "\n",
      " \n",
      "\n",
      "Nan values in testing data\n"
     ]
    },
    {
     "data": {
      "text/plain": [
       "id           0\n",
       "zip          0\n",
       "state        0\n",
       "county       0\n",
       "poverty      0\n",
       "price2007    0\n",
       "dtype: int64"
      ]
     },
     "execution_count": 26,
     "metadata": {},
     "output_type": "execute_result"
    }
   ],
   "source": [
    "# number of nan values in each column in training and testing data\n",
    "\n",
    "print('Nan values in training data')\n",
    "print(train_data.isna().sum())\n",
    "\n",
    "print('\\n \\n')\n",
    "\n",
    "print('Nan values in testing data')\n",
    "test_data.isna().sum()"
   ]
  },
  {
   "cell_type": "markdown",
   "metadata": {},
   "source": [
    "## Question 2. Predict 2013 home prices using state information only.   \n",
    "###   Answer these questions using all of the training data available\n",
    "\n",
    "a. What is the intercept? What does it correspond to?  \n",
    "b. How do you get this information from your regression?  \n",
    "c. Based on your regression coefficients, what states have the most and least expensive average homes?  \n",
    "d. How do you get this information from your regression?  \n",
    "e. What is the average price of homes in those states?  \n",
    "f. How do you get this information from your regression?  \n"
   ]
  },
  {
   "cell_type": "markdown",
   "metadata": {},
   "source": [
    "## One hot encoding - states column\n",
    "  \n",
    "To predict the housing prices using only the state information -- We need to build a linear regression model on a set of categorical variables (states column).  \n",
    "To do this, \n",
    "1. I `One hot encoded` the states column as shown below.\n",
    "2. To encode the column, first I concatenated the states column into a single dataset to ensure that the encoding is uniform across the trainging and testing dataset.\n"
   ]
  },
  {
   "cell_type": "code",
   "execution_count": 27,
   "metadata": {},
   "outputs": [
    {
     "data": {
      "text/html": [
       "<div>\n",
       "<style scoped>\n",
       "    .dataframe tbody tr th:only-of-type {\n",
       "        vertical-align: middle;\n",
       "    }\n",
       "\n",
       "    .dataframe tbody tr th {\n",
       "        vertical-align: top;\n",
       "    }\n",
       "\n",
       "    .dataframe thead th {\n",
       "        text-align: right;\n",
       "    }\n",
       "</style>\n",
       "<table border=\"1\" class=\"dataframe\">\n",
       "  <thead>\n",
       "    <tr style=\"text-align: right;\">\n",
       "      <th></th>\n",
       "      <th>AK</th>\n",
       "      <th>AL</th>\n",
       "      <th>AR</th>\n",
       "      <th>AZ</th>\n",
       "      <th>CA</th>\n",
       "      <th>CO</th>\n",
       "      <th>CT</th>\n",
       "      <th>DC</th>\n",
       "      <th>DE</th>\n",
       "      <th>FL</th>\n",
       "      <th>...</th>\n",
       "      <th>RI</th>\n",
       "      <th>SC</th>\n",
       "      <th>TN</th>\n",
       "      <th>TX</th>\n",
       "      <th>UT</th>\n",
       "      <th>VA</th>\n",
       "      <th>WA</th>\n",
       "      <th>WI</th>\n",
       "      <th>WV</th>\n",
       "      <th>WY</th>\n",
       "    </tr>\n",
       "  </thead>\n",
       "  <tbody>\n",
       "    <tr>\n",
       "      <th>0</th>\n",
       "      <td>0</td>\n",
       "      <td>0</td>\n",
       "      <td>0</td>\n",
       "      <td>0</td>\n",
       "      <td>0</td>\n",
       "      <td>0</td>\n",
       "      <td>0</td>\n",
       "      <td>0</td>\n",
       "      <td>0</td>\n",
       "      <td>0</td>\n",
       "      <td>...</td>\n",
       "      <td>0</td>\n",
       "      <td>0</td>\n",
       "      <td>0</td>\n",
       "      <td>0</td>\n",
       "      <td>0</td>\n",
       "      <td>0</td>\n",
       "      <td>0</td>\n",
       "      <td>0</td>\n",
       "      <td>0</td>\n",
       "      <td>0</td>\n",
       "    </tr>\n",
       "    <tr>\n",
       "      <th>1</th>\n",
       "      <td>0</td>\n",
       "      <td>0</td>\n",
       "      <td>0</td>\n",
       "      <td>0</td>\n",
       "      <td>0</td>\n",
       "      <td>0</td>\n",
       "      <td>0</td>\n",
       "      <td>0</td>\n",
       "      <td>0</td>\n",
       "      <td>0</td>\n",
       "      <td>...</td>\n",
       "      <td>0</td>\n",
       "      <td>0</td>\n",
       "      <td>0</td>\n",
       "      <td>0</td>\n",
       "      <td>0</td>\n",
       "      <td>0</td>\n",
       "      <td>0</td>\n",
       "      <td>0</td>\n",
       "      <td>0</td>\n",
       "      <td>0</td>\n",
       "    </tr>\n",
       "    <tr>\n",
       "      <th>2</th>\n",
       "      <td>0</td>\n",
       "      <td>0</td>\n",
       "      <td>0</td>\n",
       "      <td>0</td>\n",
       "      <td>0</td>\n",
       "      <td>0</td>\n",
       "      <td>0</td>\n",
       "      <td>0</td>\n",
       "      <td>0</td>\n",
       "      <td>0</td>\n",
       "      <td>...</td>\n",
       "      <td>0</td>\n",
       "      <td>0</td>\n",
       "      <td>0</td>\n",
       "      <td>0</td>\n",
       "      <td>0</td>\n",
       "      <td>0</td>\n",
       "      <td>0</td>\n",
       "      <td>0</td>\n",
       "      <td>0</td>\n",
       "      <td>0</td>\n",
       "    </tr>\n",
       "    <tr>\n",
       "      <th>3</th>\n",
       "      <td>0</td>\n",
       "      <td>0</td>\n",
       "      <td>0</td>\n",
       "      <td>0</td>\n",
       "      <td>1</td>\n",
       "      <td>0</td>\n",
       "      <td>0</td>\n",
       "      <td>0</td>\n",
       "      <td>0</td>\n",
       "      <td>0</td>\n",
       "      <td>...</td>\n",
       "      <td>0</td>\n",
       "      <td>0</td>\n",
       "      <td>0</td>\n",
       "      <td>0</td>\n",
       "      <td>0</td>\n",
       "      <td>0</td>\n",
       "      <td>0</td>\n",
       "      <td>0</td>\n",
       "      <td>0</td>\n",
       "      <td>0</td>\n",
       "    </tr>\n",
       "    <tr>\n",
       "      <th>4</th>\n",
       "      <td>0</td>\n",
       "      <td>0</td>\n",
       "      <td>0</td>\n",
       "      <td>0</td>\n",
       "      <td>0</td>\n",
       "      <td>0</td>\n",
       "      <td>0</td>\n",
       "      <td>0</td>\n",
       "      <td>0</td>\n",
       "      <td>0</td>\n",
       "      <td>...</td>\n",
       "      <td>0</td>\n",
       "      <td>0</td>\n",
       "      <td>0</td>\n",
       "      <td>0</td>\n",
       "      <td>0</td>\n",
       "      <td>0</td>\n",
       "      <td>0</td>\n",
       "      <td>0</td>\n",
       "      <td>0</td>\n",
       "      <td>0</td>\n",
       "    </tr>\n",
       "  </tbody>\n",
       "</table>\n",
       "<p>5 rows × 46 columns</p>\n",
       "</div>"
      ],
      "text/plain": [
       "   AK  AL  AR  AZ  CA  CO  CT  DC  DE  FL  ...  RI  SC  TN  TX  UT  VA  WA  \\\n",
       "0   0   0   0   0   0   0   0   0   0   0  ...   0   0   0   0   0   0   0   \n",
       "1   0   0   0   0   0   0   0   0   0   0  ...   0   0   0   0   0   0   0   \n",
       "2   0   0   0   0   0   0   0   0   0   0  ...   0   0   0   0   0   0   0   \n",
       "3   0   0   0   0   1   0   0   0   0   0  ...   0   0   0   0   0   0   0   \n",
       "4   0   0   0   0   0   0   0   0   0   0  ...   0   0   0   0   0   0   0   \n",
       "\n",
       "   WI  WV  WY  \n",
       "0   0   0   0  \n",
       "1   0   0   0  \n",
       "2   0   0   0  \n",
       "3   0   0   0  \n",
       "4   0   0   0  \n",
       "\n",
       "[5 rows x 46 columns]"
      ]
     },
     "execution_count": 27,
     "metadata": {},
     "output_type": "execute_result"
    }
   ],
   "source": [
    "dataset = pd.concat(objs=[train_data['state'], test_data['state']], axis=0)\n",
    "encoded_states = pd.get_dummies(data=dataset)\n",
    "encoded_states.head()"
   ]
  },
  {
   "cell_type": "markdown",
   "metadata": {},
   "source": [
    "## Train, test data for encoded states column\n",
    "\n",
    "* split concatenated dataset into train and test"
   ]
  },
  {
   "cell_type": "code",
   "execution_count": 28,
   "metadata": {},
   "outputs": [
    {
     "name": "stdout",
     "output_type": "stream",
     "text": [
      "(8973, 46) (8973,)\n",
      "(1063, 46)\n"
     ]
    }
   ],
   "source": [
    "# X data\n",
    "X_train = encoded_states[:int(num_train)]\n",
    "X_test = encoded_states[num_train:]\n",
    "\n",
    "\n",
    "# Y data\n",
    "Y_train = train_data['price2013'][:int(num_train)]\n",
    "\n",
    "print(X_train.shape, Y_train.shape)\n",
    "print(X_test.shape)"
   ]
  },
  {
   "cell_type": "markdown",
   "metadata": {},
   "source": [
    "## Fit linear regression"
   ]
  },
  {
   "cell_type": "code",
   "execution_count": 29,
   "metadata": {},
   "outputs": [
    {
     "data": {
      "text/plain": [
       "LinearRegression()"
      ]
     },
     "execution_count": 29,
     "metadata": {},
     "output_type": "execute_result"
    }
   ],
   "source": [
    "model = LinearRegression()\n",
    "model.fit(X_train,Y_train)"
   ]
  },
  {
   "cell_type": "markdown",
   "metadata": {},
   "source": [
    "## Answer 2 (a) & (b) : Intercept\n",
    "\n",
    "* The intercept of the model is shown below. \n",
    "* From a mathematical point of view, the intercept of the model is the expected mean value of Y when all X = 0.\n",
    "* To get this information from the regression, I simple extracted the value from the model. Its meaning varies w.r.t to the data set. For example in our case, we know that all X can     never be 0 since X has been obtained by hot encoding the states column. \n"
   ]
  },
  {
   "cell_type": "code",
   "execution_count": 30,
   "metadata": {},
   "outputs": [
    {
     "name": "stdout",
     "output_type": "stream",
     "text": [
      "The intercept of the model is 2.159872127769694e+18\n"
     ]
    }
   ],
   "source": [
    "intercept = model.intercept_\n",
    "print('The intercept of the model is {}'.format(intercept))"
   ]
  },
  {
   "cell_type": "markdown",
   "metadata": {},
   "source": [
    "## Answer 2(c) & (d) Coefficients     \n",
    "* The coefficients of the model are shown below. \n",
    "* Also, the ranking of homes from most expensive to least are shown. California has the most expensive average homes where as West Virginia has the least expensive. \n",
    "* To get this information from the regression, I simple extracted the value of the coefficients of the regression model. By intuition, the state which has the largest coefficient associated with it has the most expensive homes and vice versa. Since we are only using the encoded states column to predict the price, effectively our regression model only predicts the average price in the states. "
   ]
  },
  {
   "cell_type": "code",
   "execution_count": 31,
   "metadata": {},
   "outputs": [
    {
     "name": "stdout",
     "output_type": "stream",
     "text": [
      " \n",
      " Ranking states which have the most expensive average homes: \n",
      "\n",
      "1. CA\n",
      "2. DC\n",
      "3. HI\n",
      "4. MA\n",
      "5. NJ\n",
      "6. NY\n",
      "7. VA\n",
      "8. CT\n",
      "9. MD\n",
      "10. AK\n",
      "11. WA\n",
      "12. CO\n",
      "13. UT\n",
      "14. MT\n",
      "15. RI\n",
      "16. OR\n",
      "17. NV\n",
      "18. DE\n",
      "19. AZ\n",
      "20. MN\n",
      "21. NH\n",
      "22. WY\n",
      "23. NM\n",
      "24. FL\n",
      "25. IL\n",
      "26. PA\n",
      "27. WI\n",
      "28. TX\n",
      "29. IA\n",
      "30. MO\n",
      "31. NC\n",
      "32. ND\n",
      "33. SC\n",
      "34. GA\n",
      "35. KY\n",
      "36. MI\n",
      "37. NE\n",
      "38. IN\n",
      "39. KS\n",
      "40. LA\n",
      "41. AL\n",
      "42. TN\n",
      "43. AR\n",
      "44. OH\n",
      "45. OK\n",
      "46. WV\n"
     ]
    }
   ],
   "source": [
    "# features of the model\n",
    "features = X_train.columns\n",
    "\n",
    "# coefficients of the model\n",
    "coef = model.coef_\n",
    "# order of coefficients in ascending order order\n",
    "inds = np.argsort(coef)\n",
    "rank = 1\n",
    "print(\" \\n Ranking states which have the most expensive average homes: \\n\")\n",
    "# print rank of most expensive homes\n",
    "for i in reversed(inds):\n",
    "    print('{}. {}'.format(rank, features[i]))\n",
    "    rank+=1\n",
    "\n"
   ]
  },
  {
   "cell_type": "markdown",
   "metadata": {},
   "source": [
    "## Answer 2 (e) and (f)\n",
    "  \n",
    "Average value of homes in most and least expensive states :\n",
    "\n",
    "* As shown below, the average price in the most expensive state is : 520192\n",
    "* The average price in the lease expensive state is : 94208\n",
    "* To get this information, I added the model intercept with the model coefficient associated with that state. \n"
   ]
  },
  {
   "cell_type": "code",
   "execution_count": 32,
   "metadata": {},
   "outputs": [
    {
     "name": "stdout",
     "output_type": "stream",
     "text": [
      "The price in the most expensive state is : 520192.0\n",
      "The price in the least expensive state is : 94208.0\n"
     ]
    }
   ],
   "source": [
    "# average value \n",
    "most_expensive = intercept + coef[inds[-1]]\n",
    "least_expensive = intercept + coef[inds[0]]\n",
    "\n",
    "print('The price in the most expensive state is : {}'.format(most_expensive))\n",
    "print('The price in the least expensive state is : {}'.format(least_expensive))"
   ]
  },
  {
   "cell_type": "markdown",
   "metadata": {},
   "source": [
    "## Prediction"
   ]
  },
  {
   "cell_type": "code",
   "execution_count": 33,
   "metadata": {},
   "outputs": [
    {
     "name": "stdout",
     "output_type": "stream",
     "text": [
      "[178944. 158464. 300288. 127488. 207872. 298752. 520192. 262400. 508928.\n",
      " 178944.]\n"
     ]
    }
   ],
   "source": [
    "prediction = model.predict(X_test)\n",
    "print(prediction[:10])"
   ]
  },
  {
   "cell_type": "markdown",
   "metadata": {},
   "source": [
    "* ***************************************************************************************************************************************************************************************"
   ]
  },
  {
   "cell_type": "markdown",
   "metadata": {},
   "source": [
    "## Answer 3.  Predict 2013 home prices from state and county information.\n",
    "\n",
    "* First, both the states and the county column were `One hot encoded`\n",
    "* Following that, similar analysis was done as question 2 to get the counties with max coefficients.\n",
    "* An interesting observation was found - It can be seen below that the answer is split into two cases. In case 1\n",
    "  encoding has been done after concatenating the train and test data into 1  to ensure that the encoding is uniform.\n",
    "* In this case it can be be observed that Bossier county has the max index where as Hill county has the lowest. The interesting part is that\n",
    "  both these counties are not present in the training data. \n",
    "* In case 2, only the training data has been encoded to find the counties that have the max coeficients within the training data.\n",
    "* It is observed that Bernalillo county in New Mexico has the highest coefficient where as Ascension county in LA has the lowest. \n",
    "\n",
    "#### Reasoning\n",
    "\n",
    "* The coefficients of individual counties represent the average county price w.r.t to the state price. For example, the counties with positive coefficients have average house price higher than\n",
    "  the average state price.  \n",
    "* Similarily, counties with negative coefficients have avergae price lower than the average state price.\n",
    "* It can be seen that in a analysis, Ascension county has a large negative coef. This means that the average price in that county significantly lower than the state average. "
   ]
  },
  {
   "cell_type": "markdown",
   "metadata": {},
   "source": [
    "## Case 1 : Encoding after concatenating test and train into one"
   ]
  },
  {
   "cell_type": "code",
   "execution_count": 34,
   "metadata": {},
   "outputs": [],
   "source": [
    "train_data = pd.read_csv(os.path.join(data_path,'house_train.csv'))\n",
    "test_data = pd.read_csv(os.path.join(data_path,'house_test.csv'))\n",
    "num_train = train_data.shape[0]\n",
    "num_test = test_data.shape[0]"
   ]
  },
  {
   "cell_type": "code",
   "execution_count": 35,
   "metadata": {},
   "outputs": [
    {
     "data": {
      "text/html": [
       "<div>\n",
       "<style scoped>\n",
       "    .dataframe tbody tr th:only-of-type {\n",
       "        vertical-align: middle;\n",
       "    }\n",
       "\n",
       "    .dataframe tbody tr th {\n",
       "        vertical-align: top;\n",
       "    }\n",
       "\n",
       "    .dataframe thead th {\n",
       "        text-align: right;\n",
       "    }\n",
       "</style>\n",
       "<table border=\"1\" class=\"dataframe\">\n",
       "  <thead>\n",
       "    <tr style=\"text-align: right;\">\n",
       "      <th></th>\n",
       "      <th>price2013</th>\n",
       "      <th>state_AK</th>\n",
       "      <th>state_AL</th>\n",
       "      <th>state_AR</th>\n",
       "      <th>state_AZ</th>\n",
       "      <th>state_CA</th>\n",
       "      <th>state_CO</th>\n",
       "      <th>state_CT</th>\n",
       "      <th>state_DC</th>\n",
       "      <th>state_DE</th>\n",
       "      <th>...</th>\n",
       "      <th>county_yadkin</th>\n",
       "      <th>county_yakima</th>\n",
       "      <th>county_yamhill</th>\n",
       "      <th>county_yates</th>\n",
       "      <th>county_yavapai</th>\n",
       "      <th>county_yellowstone</th>\n",
       "      <th>county_yolo</th>\n",
       "      <th>county_york</th>\n",
       "      <th>county_yuba</th>\n",
       "      <th>county_yuma</th>\n",
       "    </tr>\n",
       "  </thead>\n",
       "  <tbody>\n",
       "    <tr>\n",
       "      <th>0</th>\n",
       "      <td>294000.0</td>\n",
       "      <td>0</td>\n",
       "      <td>0</td>\n",
       "      <td>0</td>\n",
       "      <td>0</td>\n",
       "      <td>0</td>\n",
       "      <td>0</td>\n",
       "      <td>0</td>\n",
       "      <td>0</td>\n",
       "      <td>0</td>\n",
       "      <td>...</td>\n",
       "      <td>0</td>\n",
       "      <td>0</td>\n",
       "      <td>0</td>\n",
       "      <td>0</td>\n",
       "      <td>0</td>\n",
       "      <td>0</td>\n",
       "      <td>0</td>\n",
       "      <td>0</td>\n",
       "      <td>0</td>\n",
       "      <td>0</td>\n",
       "    </tr>\n",
       "    <tr>\n",
       "      <th>1</th>\n",
       "      <td>471600.0</td>\n",
       "      <td>0</td>\n",
       "      <td>0</td>\n",
       "      <td>0</td>\n",
       "      <td>0</td>\n",
       "      <td>0</td>\n",
       "      <td>0</td>\n",
       "      <td>0</td>\n",
       "      <td>0</td>\n",
       "      <td>0</td>\n",
       "      <td>...</td>\n",
       "      <td>0</td>\n",
       "      <td>0</td>\n",
       "      <td>0</td>\n",
       "      <td>0</td>\n",
       "      <td>0</td>\n",
       "      <td>0</td>\n",
       "      <td>0</td>\n",
       "      <td>0</td>\n",
       "      <td>0</td>\n",
       "      <td>0</td>\n",
       "    </tr>\n",
       "    <tr>\n",
       "      <th>2</th>\n",
       "      <td>174200.0</td>\n",
       "      <td>0</td>\n",
       "      <td>0</td>\n",
       "      <td>0</td>\n",
       "      <td>0</td>\n",
       "      <td>0</td>\n",
       "      <td>0</td>\n",
       "      <td>0</td>\n",
       "      <td>0</td>\n",
       "      <td>0</td>\n",
       "      <td>...</td>\n",
       "      <td>0</td>\n",
       "      <td>0</td>\n",
       "      <td>0</td>\n",
       "      <td>0</td>\n",
       "      <td>0</td>\n",
       "      <td>0</td>\n",
       "      <td>0</td>\n",
       "      <td>0</td>\n",
       "      <td>0</td>\n",
       "      <td>0</td>\n",
       "    </tr>\n",
       "    <tr>\n",
       "      <th>3</th>\n",
       "      <td>822600.0</td>\n",
       "      <td>0</td>\n",
       "      <td>0</td>\n",
       "      <td>0</td>\n",
       "      <td>0</td>\n",
       "      <td>1</td>\n",
       "      <td>0</td>\n",
       "      <td>0</td>\n",
       "      <td>0</td>\n",
       "      <td>0</td>\n",
       "      <td>...</td>\n",
       "      <td>0</td>\n",
       "      <td>0</td>\n",
       "      <td>0</td>\n",
       "      <td>0</td>\n",
       "      <td>0</td>\n",
       "      <td>0</td>\n",
       "      <td>0</td>\n",
       "      <td>0</td>\n",
       "      <td>0</td>\n",
       "      <td>0</td>\n",
       "    </tr>\n",
       "    <tr>\n",
       "      <th>4</th>\n",
       "      <td>681500.0</td>\n",
       "      <td>0</td>\n",
       "      <td>0</td>\n",
       "      <td>0</td>\n",
       "      <td>0</td>\n",
       "      <td>0</td>\n",
       "      <td>0</td>\n",
       "      <td>0</td>\n",
       "      <td>0</td>\n",
       "      <td>0</td>\n",
       "      <td>...</td>\n",
       "      <td>0</td>\n",
       "      <td>0</td>\n",
       "      <td>0</td>\n",
       "      <td>0</td>\n",
       "      <td>0</td>\n",
       "      <td>0</td>\n",
       "      <td>0</td>\n",
       "      <td>0</td>\n",
       "      <td>0</td>\n",
       "      <td>0</td>\n",
       "    </tr>\n",
       "  </tbody>\n",
       "</table>\n",
       "<p>5 rows × 681 columns</p>\n",
       "</div>"
      ],
      "text/plain": [
       "   price2013  state_AK  state_AL  state_AR  state_AZ  state_CA  state_CO  \\\n",
       "0   294000.0         0         0         0         0         0         0   \n",
       "1   471600.0         0         0         0         0         0         0   \n",
       "2   174200.0         0         0         0         0         0         0   \n",
       "3   822600.0         0         0         0         0         1         0   \n",
       "4   681500.0         0         0         0         0         0         0   \n",
       "\n",
       "   state_CT  state_DC  state_DE  ...  county_yadkin  county_yakima  \\\n",
       "0         0         0         0  ...              0              0   \n",
       "1         0         0         0  ...              0              0   \n",
       "2         0         0         0  ...              0              0   \n",
       "3         0         0         0  ...              0              0   \n",
       "4         0         0         0  ...              0              0   \n",
       "\n",
       "   county_yamhill  county_yates  county_yavapai  county_yellowstone  \\\n",
       "0               0             0               0                   0   \n",
       "1               0             0               0                   0   \n",
       "2               0             0               0                   0   \n",
       "3               0             0               0                   0   \n",
       "4               0             0               0                   0   \n",
       "\n",
       "   county_yolo  county_york  county_yuba  county_yuma  \n",
       "0            0            0            0            0  \n",
       "1            0            0            0            0  \n",
       "2            0            0            0            0  \n",
       "3            0            0            0            0  \n",
       "4            0            0            0            0  \n",
       "\n",
       "[5 rows x 681 columns]"
      ]
     },
     "execution_count": 35,
     "metadata": {},
     "output_type": "execute_result"
    }
   ],
   "source": [
    "dataset = pd.concat(objs=[train_data, test_data], axis=0)\n",
    "dataset = pd.get_dummies(dataset, columns=['state','county'])\n",
    "dataset = dataset.drop(['id', 'zip', 'poverty','price2007'], axis=1)\n",
    "dataset.head()\n",
    "#encoded_states = pd.get_dummies(dataset)\n",
    "#encoded_states.head()"
   ]
  },
  {
   "cell_type": "markdown",
   "metadata": {},
   "source": [
    "## Train and test data"
   ]
  },
  {
   "cell_type": "code",
   "execution_count": 36,
   "metadata": {},
   "outputs": [],
   "source": [
    "train = dataset.iloc[:num_train]\n",
    "test = dataset.iloc[num_train:]\n",
    "\n",
    "# training data\n",
    "train_y = train['price2013']\n",
    "train_x = train.drop(['price2013'], axis=1)\n",
    "\n",
    "# testing data\n",
    "test_x = test.drop(['price2013'], axis=1)\n"
   ]
  },
  {
   "cell_type": "markdown",
   "metadata": {},
   "source": [
    "## Fit linear regression"
   ]
  },
  {
   "cell_type": "code",
   "execution_count": 37,
   "metadata": {},
   "outputs": [
    {
     "data": {
      "text/plain": [
       "LinearRegression()"
      ]
     },
     "execution_count": 37,
     "metadata": {},
     "output_type": "execute_result"
    }
   ],
   "source": [
    "model = LinearRegression()\n",
    "model.fit(train_x,train_y)"
   ]
  },
  {
   "cell_type": "markdown",
   "metadata": {},
   "source": [
    "## Counties with and min and max coefficients"
   ]
  },
  {
   "cell_type": "code",
   "execution_count": 38,
   "metadata": {},
   "outputs": [
    {
     "name": "stdout",
     "output_type": "stream",
     "text": [
      "The county with max index is : county_bossier\n",
      "The county with min index is : county_hill\n"
     ]
    }
   ],
   "source": [
    "# all columns in training data\n",
    "columns = train_x.columns\n",
    "\n",
    "# model coefficients\n",
    "coef = model.coef_\n",
    "\n",
    "# dictionary of county coefficients\n",
    "coeff_dict = {k:v for k,v in zip(columns,coef) if 'county' in k}\n",
    "\n",
    "# county with max and min coefficeints\n",
    "v=list(coeff_dict.values())\n",
    "k=list(coeff_dict.keys())\n",
    "print('The county with max index is : {}'.format(k[v.index(max(v))]))\n",
    "print('The county with min index is : {}'.format(k[v.index(min(v))]))\n",
    "\n",
    "\n"
   ]
  },
  {
   "cell_type": "markdown",
   "metadata": {},
   "source": [
    "## Case 2: Encoding just the train data"
   ]
  },
  {
   "cell_type": "code",
   "execution_count": 39,
   "metadata": {},
   "outputs": [
    {
     "data": {
      "text/plain": [
       "LinearRegression()"
      ]
     },
     "execution_count": 39,
     "metadata": {},
     "output_type": "execute_result"
    }
   ],
   "source": [
    "# load data\n",
    "train_data = pd.read_csv(os.path.join(data_path,'house_train.csv'))\n",
    "dataset = pd.get_dummies(train_data, columns=['state','county'])\n",
    "dataset = dataset.drop(['id', 'zip', 'poverty','price2007'], axis=1)\n",
    "\n",
    "# training data\n",
    "train_y = dataset['price2013']\n",
    "train_x = dataset.drop(['price2013'], axis=1)\n",
    "\n",
    "# fit model \n",
    "model = LinearRegression()\n",
    "model.fit(train_x,train_y)"
   ]
  },
  {
   "cell_type": "code",
   "execution_count": 40,
   "metadata": {},
   "outputs": [
    {
     "name": "stdout",
     "output_type": "stream",
     "text": [
      "The county with max index is : county_bernalillo\n",
      "The county with min index is : county_ascension\n"
     ]
    }
   ],
   "source": [
    "# all columns in training data\n",
    "columns = train_x.columns\n",
    "\n",
    "# model coefficients\n",
    "coef = model.coef_\n",
    "\n",
    "# dictionary of county coefficients\n",
    "coeff_dict = {k:v for k,v in zip(columns,coef) if 'county' in k}\n",
    "\n",
    "# county with max and min coefficeints\n",
    "v=list(coeff_dict.values())\n",
    "k=list(coeff_dict.keys())\n",
    "print('The county with max index is : {}'.format(k[v.index(max(v))]))\n",
    "print('The county with min index is : {}'.format(k[v.index(min(v))]))"
   ]
  }
 ],
 "metadata": {
  "kernelspec": {
   "display_name": "Python 3",
   "language": "python",
   "name": "python3"
  },
  "language_info": {
   "codemirror_mode": {
    "name": "ipython",
    "version": 3
   },
   "file_extension": ".py",
   "mimetype": "text/x-python",
   "name": "python",
   "nbconvert_exporter": "python",
   "pygments_lexer": "ipython3",
   "version": "3.8.3"
  }
 },
 "nbformat": 4,
 "nbformat_minor": 4
}
