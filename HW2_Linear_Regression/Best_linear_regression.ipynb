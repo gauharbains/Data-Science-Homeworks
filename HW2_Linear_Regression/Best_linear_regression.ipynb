{
 "cells": [
  {
   "cell_type": "markdown",
   "metadata": {},
   "source": [
    "# ENPM 808W Homework 2 \n",
    "\n",
    "### Question 4\n",
    "\n",
    "Challenge: Build a regressor that best predicts average home values in this dataset."
   ]
  },
  {
   "cell_type": "code",
   "execution_count": 19,
   "metadata": {},
   "outputs": [],
   "source": [
    "import pandas as pd\n",
    "import numpy as np\n",
    "import seaborn as sns\n",
    "import math\n",
    "import os\n",
    "from sklearn.linear_model import LinearRegression\n",
    "from sklearn.metrics import mean_squared_error\n",
    "from sklearn.model_selection import train_test_split"
   ]
  },
  {
   "cell_type": "code",
   "execution_count": 20,
   "metadata": {},
   "outputs": [],
   "source": [
    "cwd = os.getcwd()\n",
    "data_path = os.path.join(cwd,'Housing_data')"
   ]
  },
  {
   "cell_type": "markdown",
   "metadata": {},
   "source": [
    "## 1 . Load and view training data"
   ]
  },
  {
   "cell_type": "code",
   "execution_count": 21,
   "metadata": {},
   "outputs": [
    {
     "data": {
      "text/html": [
       "<div>\n",
       "<style scoped>\n",
       "    .dataframe tbody tr th:only-of-type {\n",
       "        vertical-align: middle;\n",
       "    }\n",
       "\n",
       "    .dataframe tbody tr th {\n",
       "        vertical-align: top;\n",
       "    }\n",
       "\n",
       "    .dataframe thead th {\n",
       "        text-align: right;\n",
       "    }\n",
       "</style>\n",
       "<table border=\"1\" class=\"dataframe\">\n",
       "  <thead>\n",
       "    <tr style=\"text-align: right;\">\n",
       "      <th></th>\n",
       "      <th>id</th>\n",
       "      <th>zip</th>\n",
       "      <th>state</th>\n",
       "      <th>county</th>\n",
       "      <th>poverty</th>\n",
       "      <th>price2007</th>\n",
       "      <th>price2013</th>\n",
       "    </tr>\n",
       "  </thead>\n",
       "  <tbody>\n",
       "    <tr>\n",
       "      <th>0</th>\n",
       "      <td>0</td>\n",
       "      <td>10467</td>\n",
       "      <td>NY</td>\n",
       "      <td>bronx</td>\n",
       "      <td>27.1</td>\n",
       "      <td>335200</td>\n",
       "      <td>294000</td>\n",
       "    </tr>\n",
       "    <tr>\n",
       "      <th>1</th>\n",
       "      <td>1</td>\n",
       "      <td>11226</td>\n",
       "      <td>NY</td>\n",
       "      <td>kings</td>\n",
       "      <td>21.9</td>\n",
       "      <td>471500</td>\n",
       "      <td>471600</td>\n",
       "    </tr>\n",
       "    <tr>\n",
       "      <th>2</th>\n",
       "      <td>2</td>\n",
       "      <td>60640</td>\n",
       "      <td>IL</td>\n",
       "      <td>cook</td>\n",
       "      <td>14.6</td>\n",
       "      <td>254600</td>\n",
       "      <td>174200</td>\n",
       "    </tr>\n",
       "    <tr>\n",
       "      <th>3</th>\n",
       "      <td>3</td>\n",
       "      <td>94109</td>\n",
       "      <td>CA</td>\n",
       "      <td>san francisco</td>\n",
       "      <td>10.6</td>\n",
       "      <td>707100</td>\n",
       "      <td>822600</td>\n",
       "    </tr>\n",
       "    <tr>\n",
       "      <th>4</th>\n",
       "      <td>4</td>\n",
       "      <td>11375</td>\n",
       "      <td>NY</td>\n",
       "      <td>queens</td>\n",
       "      <td>12.2</td>\n",
       "      <td>636400</td>\n",
       "      <td>681500</td>\n",
       "    </tr>\n",
       "  </tbody>\n",
       "</table>\n",
       "</div>"
      ],
      "text/plain": [
       "   id    zip state         county  poverty  price2007  price2013\n",
       "0   0  10467    NY          bronx     27.1     335200     294000\n",
       "1   1  11226    NY          kings     21.9     471500     471600\n",
       "2   2  60640    IL           cook     14.6     254600     174200\n",
       "3   3  94109    CA  san francisco     10.6     707100     822600\n",
       "4   4  11375    NY         queens     12.2     636400     681500"
      ]
     },
     "execution_count": 21,
     "metadata": {},
     "output_type": "execute_result"
    }
   ],
   "source": [
    "train_data = pd.read_csv(os.path.join(data_path,'house_train.csv'))\n",
    "train_data.head()"
   ]
  },
  {
   "cell_type": "markdown",
   "metadata": {},
   "source": [
    "## 2. Load and view testing data"
   ]
  },
  {
   "cell_type": "code",
   "execution_count": 22,
   "metadata": {},
   "outputs": [
    {
     "data": {
      "text/html": [
       "<div>\n",
       "<style scoped>\n",
       "    .dataframe tbody tr th:only-of-type {\n",
       "        vertical-align: middle;\n",
       "    }\n",
       "\n",
       "    .dataframe tbody tr th {\n",
       "        vertical-align: top;\n",
       "    }\n",
       "\n",
       "    .dataframe thead th {\n",
       "        text-align: right;\n",
       "    }\n",
       "</style>\n",
       "<table border=\"1\" class=\"dataframe\">\n",
       "  <thead>\n",
       "    <tr style=\"text-align: right;\">\n",
       "      <th></th>\n",
       "      <th>id</th>\n",
       "      <th>zip</th>\n",
       "      <th>state</th>\n",
       "      <th>county</th>\n",
       "      <th>poverty</th>\n",
       "      <th>price2007</th>\n",
       "    </tr>\n",
       "  </thead>\n",
       "  <tbody>\n",
       "    <tr>\n",
       "      <th>0</th>\n",
       "      <td>6</td>\n",
       "      <td>32162</td>\n",
       "      <td>FL</td>\n",
       "      <td>marion</td>\n",
       "      <td>13.0</td>\n",
       "      <td>265600</td>\n",
       "    </tr>\n",
       "    <tr>\n",
       "      <th>1</th>\n",
       "      <td>13</td>\n",
       "      <td>78572</td>\n",
       "      <td>TX</td>\n",
       "      <td>hidalgo</td>\n",
       "      <td>34.0</td>\n",
       "      <td>79900</td>\n",
       "    </tr>\n",
       "    <tr>\n",
       "      <th>2</th>\n",
       "      <td>20</td>\n",
       "      <td>11212</td>\n",
       "      <td>NY</td>\n",
       "      <td>kings</td>\n",
       "      <td>21.9</td>\n",
       "      <td>332000</td>\n",
       "    </tr>\n",
       "    <tr>\n",
       "      <th>3</th>\n",
       "      <td>30</td>\n",
       "      <td>37042</td>\n",
       "      <td>TN</td>\n",
       "      <td>montgomery</td>\n",
       "      <td>12.7</td>\n",
       "      <td>98700</td>\n",
       "    </tr>\n",
       "    <tr>\n",
       "      <th>4</th>\n",
       "      <td>37</td>\n",
       "      <td>85032</td>\n",
       "      <td>AZ</td>\n",
       "      <td>maricopa</td>\n",
       "      <td>12.9</td>\n",
       "      <td>266100</td>\n",
       "    </tr>\n",
       "  </tbody>\n",
       "</table>\n",
       "</div>"
      ],
      "text/plain": [
       "   id    zip state      county  poverty  price2007\n",
       "0   6  32162    FL      marion     13.0     265600\n",
       "1  13  78572    TX     hidalgo     34.0      79900\n",
       "2  20  11212    NY       kings     21.9     332000\n",
       "3  30  37042    TN  montgomery     12.7      98700\n",
       "4  37  85032    AZ    maricopa     12.9     266100"
      ]
     },
     "execution_count": 22,
     "metadata": {},
     "output_type": "execute_result"
    }
   ],
   "source": [
    "test_data = pd.read_csv(os.path.join(data_path,'house_test.csv'))\n",
    "test_data.head()"
   ]
  },
  {
   "cell_type": "markdown",
   "metadata": {},
   "source": [
    "## 3 .Size of training and testing data"
   ]
  },
  {
   "cell_type": "code",
   "execution_count": 23,
   "metadata": {},
   "outputs": [
    {
     "name": "stdout",
     "output_type": "stream",
     "text": [
      "Number of training examples: 8973\n",
      "Number of testing examples: 1063\n"
     ]
    }
   ],
   "source": [
    "num_train = train_data.shape[0]\n",
    "num_test = test_data.shape[0]\n",
    "print(\"Number of training examples: {}\".format(num_train))\n",
    "print(\"Number of testing examples: {}\".format(num_test))"
   ]
  },
  {
   "cell_type": "markdown",
   "metadata": {},
   "source": [
    "## 4. Exploratory Data Analysis \n",
    "\n",
    "* Exploratory data analsis to get an idea about how the variables are varying with each other. \n"
   ]
  },
  {
   "cell_type": "code",
   "execution_count": 24,
   "metadata": {},
   "outputs": [
    {
     "data": {
      "text/html": [
       "<div>\n",
       "<style scoped>\n",
       "    .dataframe tbody tr th:only-of-type {\n",
       "        vertical-align: middle;\n",
       "    }\n",
       "\n",
       "    .dataframe tbody tr th {\n",
       "        vertical-align: top;\n",
       "    }\n",
       "\n",
       "    .dataframe thead th {\n",
       "        text-align: right;\n",
       "    }\n",
       "</style>\n",
       "<table border=\"1\" class=\"dataframe\">\n",
       "  <thead>\n",
       "    <tr style=\"text-align: right;\">\n",
       "      <th></th>\n",
       "      <th>id</th>\n",
       "      <th>zip</th>\n",
       "      <th>poverty</th>\n",
       "      <th>price2007</th>\n",
       "      <th>price2013</th>\n",
       "    </tr>\n",
       "  </thead>\n",
       "  <tbody>\n",
       "    <tr>\n",
       "      <th>count</th>\n",
       "      <td>8973.000000</td>\n",
       "      <td>8973.000000</td>\n",
       "      <td>8973.000000</td>\n",
       "      <td>8.973000e+03</td>\n",
       "      <td>8.973000e+03</td>\n",
       "    </tr>\n",
       "    <tr>\n",
       "      <th>mean</th>\n",
       "      <td>5016.424830</td>\n",
       "      <td>45752.551098</td>\n",
       "      <td>11.438504</td>\n",
       "      <td>2.880939e+05</td>\n",
       "      <td>2.424867e+05</td>\n",
       "    </tr>\n",
       "    <tr>\n",
       "      <th>std</th>\n",
       "      <td>2900.023449</td>\n",
       "      <td>31306.650907</td>\n",
       "      <td>4.520784</td>\n",
       "      <td>2.276980e+05</td>\n",
       "      <td>2.176485e+05</td>\n",
       "    </tr>\n",
       "    <tr>\n",
       "      <th>min</th>\n",
       "      <td>0.000000</td>\n",
       "      <td>1001.000000</td>\n",
       "      <td>-1.000000</td>\n",
       "      <td>3.400000e+04</td>\n",
       "      <td>3.520000e+04</td>\n",
       "    </tr>\n",
       "    <tr>\n",
       "      <th>25%</th>\n",
       "      <td>2505.000000</td>\n",
       "      <td>19026.000000</td>\n",
       "      <td>8.400000</td>\n",
       "      <td>1.397000e+05</td>\n",
       "      <td>1.223000e+05</td>\n",
       "    </tr>\n",
       "    <tr>\n",
       "      <th>50%</th>\n",
       "      <td>5023.000000</td>\n",
       "      <td>37324.000000</td>\n",
       "      <td>11.100000</td>\n",
       "      <td>2.230000e+05</td>\n",
       "      <td>1.788000e+05</td>\n",
       "    </tr>\n",
       "    <tr>\n",
       "      <th>75%</th>\n",
       "      <td>7528.000000</td>\n",
       "      <td>76085.000000</td>\n",
       "      <td>14.500000</td>\n",
       "      <td>3.627000e+05</td>\n",
       "      <td>2.848000e+05</td>\n",
       "    </tr>\n",
       "    <tr>\n",
       "      <th>max</th>\n",
       "      <td>10035.000000</td>\n",
       "      <td>99709.000000</td>\n",
       "      <td>34.000000</td>\n",
       "      <td>3.467800e+06</td>\n",
       "      <td>4.709500e+06</td>\n",
       "    </tr>\n",
       "  </tbody>\n",
       "</table>\n",
       "</div>"
      ],
      "text/plain": [
       "                 id           zip      poverty     price2007     price2013\n",
       "count   8973.000000   8973.000000  8973.000000  8.973000e+03  8.973000e+03\n",
       "mean    5016.424830  45752.551098    11.438504  2.880939e+05  2.424867e+05\n",
       "std     2900.023449  31306.650907     4.520784  2.276980e+05  2.176485e+05\n",
       "min        0.000000   1001.000000    -1.000000  3.400000e+04  3.520000e+04\n",
       "25%     2505.000000  19026.000000     8.400000  1.397000e+05  1.223000e+05\n",
       "50%     5023.000000  37324.000000    11.100000  2.230000e+05  1.788000e+05\n",
       "75%     7528.000000  76085.000000    14.500000  3.627000e+05  2.848000e+05\n",
       "max    10035.000000  99709.000000    34.000000  3.467800e+06  4.709500e+06"
      ]
     },
     "execution_count": 24,
     "metadata": {},
     "output_type": "execute_result"
    }
   ],
   "source": [
    "train_data.describe()"
   ]
  },
  {
   "cell_type": "markdown",
   "metadata": {},
   "source": [
    "### Price2013 vs Poverty\n",
    "\n",
    "* Scatter plot between Price in 2013 and poverty in that area. It can be seen that the relationshio is not linear."
   ]
  },
  {
   "cell_type": "code",
   "execution_count": 25,
   "metadata": {},
   "outputs": [
    {
     "data": {
      "text/plain": [
       "<matplotlib.axes._subplots.AxesSubplot at 0x7fa810ebcc70>"
      ]
     },
     "execution_count": 25,
     "metadata": {},
     "output_type": "execute_result"
    },
    {
     "data": {
      "image/png": "[encoded data removed]",
      "text/plain": [
       "<Figure size 432x288 with 1 Axes>"
      ]
     },
     "metadata": {
      "needs_background": "light"
     },
     "output_type": "display_data"
    }
   ],
   "source": [
    "train_data.plot.scatter(x='poverty', y='price2013')"
   ]
  },
  {
   "cell_type": "markdown",
   "metadata": {},
   "source": [
    "### Price2007 vs Price2013   \n",
    "\n",
    "* Scatter plot between Price in 2013 and price in 2007. It can be seen that the relationship is linear."
   ]
  },
  {
   "cell_type": "code",
   "execution_count": 26,
   "metadata": {},
   "outputs": [
    {
     "data": {
      "text/plain": [
       "<matplotlib.axes._subplots.AxesSubplot at 0x7fa7f1add9d0>"
      ]
     },
     "execution_count": 26,
     "metadata": {},
     "output_type": "execute_result"
    },
    {
     "data": {
      "image/png": "[encoded data removed]",
      "text/plain": [
       "<Figure size 432x288 with 1 Axes>"
      ]
     },
     "metadata": {
      "needs_background": "light"
     },
     "output_type": "display_data"
    }
   ],
   "source": [
    "train_data.plot.scatter(x='price2007', y='price2013')"
   ]
  },
  {
   "cell_type": "markdown",
   "metadata": {},
   "source": [
    "## 5. Obtaining the best model\n",
    "\n",
    "* To test different models locally, I split the training data set into train and dev in the ratio 80:20\n",
    "* This was done because I wanted to get an idea about the performance of multiple models locally before uploading to kaggle.\n",
    "* I tested the performance of the following models -- Using different combination of variables in training such as --   \n",
    "  i) poverty & price2007,  \n",
    "  ii) poverty, state, & price2007.  \n",
    "  iii) Using different transformation function to tranform poverty as the relationship is not linear. I tried using log, reciprocal etc.\n",
    "* The model with the best performance was when I used the following variables in the training data -- encoded states column, encoded county column, poverty, price2007.\n",
    "* `Note : The code in this section is for testing only. The code for the final model can be found below` "
   ]
  },
  {
   "cell_type": "code",
   "execution_count": 27,
   "metadata": {},
   "outputs": [
    {
     "data": {
      "text/html": [
       "<div>\n",
       "<style scoped>\n",
       "    .dataframe tbody tr th:only-of-type {\n",
       "        vertical-align: middle;\n",
       "    }\n",
       "\n",
       "    .dataframe tbody tr th {\n",
       "        vertical-align: top;\n",
       "    }\n",
       "\n",
       "    .dataframe thead th {\n",
       "        text-align: right;\n",
       "    }\n",
       "</style>\n",
       "<table border=\"1\" class=\"dataframe\">\n",
       "  <thead>\n",
       "    <tr style=\"text-align: right;\">\n",
       "      <th></th>\n",
       "      <th>price2007</th>\n",
       "      <th>price2013</th>\n",
       "      <th>state_AK</th>\n",
       "      <th>state_AL</th>\n",
       "      <th>state_AR</th>\n",
       "      <th>state_AZ</th>\n",
       "      <th>state_CA</th>\n",
       "      <th>state_CO</th>\n",
       "      <th>state_CT</th>\n",
       "      <th>state_DC</th>\n",
       "      <th>...</th>\n",
       "      <th>county_yadkin</th>\n",
       "      <th>county_yakima</th>\n",
       "      <th>county_yamhill</th>\n",
       "      <th>county_yates</th>\n",
       "      <th>county_yavapai</th>\n",
       "      <th>county_yellowstone</th>\n",
       "      <th>county_yolo</th>\n",
       "      <th>county_york</th>\n",
       "      <th>county_yuba</th>\n",
       "      <th>county_yuma</th>\n",
       "    </tr>\n",
       "  </thead>\n",
       "  <tbody>\n",
       "    <tr>\n",
       "      <th>0</th>\n",
       "      <td>335200</td>\n",
       "      <td>294000</td>\n",
       "      <td>0</td>\n",
       "      <td>0</td>\n",
       "      <td>0</td>\n",
       "      <td>0</td>\n",
       "      <td>0</td>\n",
       "      <td>0</td>\n",
       "      <td>0</td>\n",
       "      <td>0</td>\n",
       "      <td>...</td>\n",
       "      <td>0</td>\n",
       "      <td>0</td>\n",
       "      <td>0</td>\n",
       "      <td>0</td>\n",
       "      <td>0</td>\n",
       "      <td>0</td>\n",
       "      <td>0</td>\n",
       "      <td>0</td>\n",
       "      <td>0</td>\n",
       "      <td>0</td>\n",
       "    </tr>\n",
       "    <tr>\n",
       "      <th>1</th>\n",
       "      <td>471500</td>\n",
       "      <td>471600</td>\n",
       "      <td>0</td>\n",
       "      <td>0</td>\n",
       "      <td>0</td>\n",
       "      <td>0</td>\n",
       "      <td>0</td>\n",
       "      <td>0</td>\n",
       "      <td>0</td>\n",
       "      <td>0</td>\n",
       "      <td>...</td>\n",
       "      <td>0</td>\n",
       "      <td>0</td>\n",
       "      <td>0</td>\n",
       "      <td>0</td>\n",
       "      <td>0</td>\n",
       "      <td>0</td>\n",
       "      <td>0</td>\n",
       "      <td>0</td>\n",
       "      <td>0</td>\n",
       "      <td>0</td>\n",
       "    </tr>\n",
       "    <tr>\n",
       "      <th>2</th>\n",
       "      <td>254600</td>\n",
       "      <td>174200</td>\n",
       "      <td>0</td>\n",
       "      <td>0</td>\n",
       "      <td>0</td>\n",
       "      <td>0</td>\n",
       "      <td>0</td>\n",
       "      <td>0</td>\n",
       "      <td>0</td>\n",
       "      <td>0</td>\n",
       "      <td>...</td>\n",
       "      <td>0</td>\n",
       "      <td>0</td>\n",
       "      <td>0</td>\n",
       "      <td>0</td>\n",
       "      <td>0</td>\n",
       "      <td>0</td>\n",
       "      <td>0</td>\n",
       "      <td>0</td>\n",
       "      <td>0</td>\n",
       "      <td>0</td>\n",
       "    </tr>\n",
       "    <tr>\n",
       "      <th>3</th>\n",
       "      <td>707100</td>\n",
       "      <td>822600</td>\n",
       "      <td>0</td>\n",
       "      <td>0</td>\n",
       "      <td>0</td>\n",
       "      <td>0</td>\n",
       "      <td>1</td>\n",
       "      <td>0</td>\n",
       "      <td>0</td>\n",
       "      <td>0</td>\n",
       "      <td>...</td>\n",
       "      <td>0</td>\n",
       "      <td>0</td>\n",
       "      <td>0</td>\n",
       "      <td>0</td>\n",
       "      <td>0</td>\n",
       "      <td>0</td>\n",
       "      <td>0</td>\n",
       "      <td>0</td>\n",
       "      <td>0</td>\n",
       "      <td>0</td>\n",
       "    </tr>\n",
       "    <tr>\n",
       "      <th>4</th>\n",
       "      <td>636400</td>\n",
       "      <td>681500</td>\n",
       "      <td>0</td>\n",
       "      <td>0</td>\n",
       "      <td>0</td>\n",
       "      <td>0</td>\n",
       "      <td>0</td>\n",
       "      <td>0</td>\n",
       "      <td>0</td>\n",
       "      <td>0</td>\n",
       "      <td>...</td>\n",
       "      <td>0</td>\n",
       "      <td>0</td>\n",
       "      <td>0</td>\n",
       "      <td>0</td>\n",
       "      <td>0</td>\n",
       "      <td>0</td>\n",
       "      <td>0</td>\n",
       "      <td>0</td>\n",
       "      <td>0</td>\n",
       "      <td>0</td>\n",
       "    </tr>\n",
       "  </tbody>\n",
       "</table>\n",
       "<p>5 rows × 676 columns</p>\n",
       "</div>"
      ],
      "text/plain": [
       "   price2007  price2013  state_AK  state_AL  state_AR  state_AZ  state_CA  \\\n",
       "0     335200     294000         0         0         0         0         0   \n",
       "1     471500     471600         0         0         0         0         0   \n",
       "2     254600     174200         0         0         0         0         0   \n",
       "3     707100     822600         0         0         0         0         1   \n",
       "4     636400     681500         0         0         0         0         0   \n",
       "\n",
       "   state_CO  state_CT  state_DC  ...  county_yadkin  county_yakima  \\\n",
       "0         0         0         0  ...              0              0   \n",
       "1         0         0         0  ...              0              0   \n",
       "2         0         0         0  ...              0              0   \n",
       "3         0         0         0  ...              0              0   \n",
       "4         0         0         0  ...              0              0   \n",
       "\n",
       "   county_yamhill  county_yates  county_yavapai  county_yellowstone  \\\n",
       "0               0             0               0                   0   \n",
       "1               0             0               0                   0   \n",
       "2               0             0               0                   0   \n",
       "3               0             0               0                   0   \n",
       "4               0             0               0                   0   \n",
       "\n",
       "   county_yolo  county_york  county_yuba  county_yuma  \n",
       "0            0            0            0            0  \n",
       "1            0            0            0            0  \n",
       "2            0            0            0            0  \n",
       "3            0            0            0            0  \n",
       "4            0            0            0            0  \n",
       "\n",
       "[5 rows x 676 columns]"
      ]
     },
     "execution_count": 27,
     "metadata": {},
     "output_type": "execute_result"
    }
   ],
   "source": [
    "training = pd.get_dummies(train_data, columns=['state', 'county'])\n",
    "#training = train_data\n",
    "#training['new'] = training['price2007']/(train_data['poverty'])\n",
    "#training['log_poverty'] = [i for i in training['poverty']]\n",
    "training = training.drop(columns=['id', 'zip', 'poverty'], axis=1)\n",
    "#training = training.dropna()\n",
    "train, dev = train_test_split(training, test_size=0.2, random_state=26, shuffle=True)\n",
    "training.head()"
   ]
  },
  {
   "cell_type": "markdown",
   "metadata": {},
   "source": [
    "### Fit model and calculate Error"
   ]
  },
  {
   "cell_type": "code",
   "execution_count": 28,
   "metadata": {},
   "outputs": [],
   "source": [
    "train_y = train['price2013']\n",
    "train_x = train.drop(columns=['price2013'], axis=1)\n",
    "dev_y = dev['price2013']\n",
    "dev_x = dev.drop(columns=['price2013'], axis=1)\n"
   ]
  },
  {
   "cell_type": "code",
   "execution_count": 29,
   "metadata": {},
   "outputs": [
    {
     "data": {
      "text/plain": [
       "LinearRegression()"
      ]
     },
     "execution_count": 29,
     "metadata": {},
     "output_type": "execute_result"
    }
   ],
   "source": [
    "model = LinearRegression()\n",
    "model.fit(train_x,train_y)"
   ]
  },
  {
   "cell_type": "code",
   "execution_count": 30,
   "metadata": {},
   "outputs": [
    {
     "data": {
      "text/plain": [
       "45760.34960295131"
      ]
     },
     "execution_count": 30,
     "metadata": {},
     "output_type": "execute_result"
    }
   ],
   "source": [
    "prediction = model.predict(dev_x)\n",
    "mean_squared_error(dev_y, prediction, squared=False)"
   ]
  },
  {
   "cell_type": "markdown",
   "metadata": {},
   "source": [
    "## 6.  Final Model"
   ]
  },
  {
   "cell_type": "code",
   "execution_count": 31,
   "metadata": {},
   "outputs": [],
   "source": [
    "train_data = pd.read_csv(os.path.join(data_path,'house_train.csv'))\n",
    "test_data = pd.read_csv(os.path.join(data_path,'house_test.csv'))"
   ]
  },
  {
   "cell_type": "markdown",
   "metadata": {},
   "source": [
    "### One hot encoding the states column\n",
    "\n",
    "* I have concatenated the train and test data into one to ensure that the encoding is uniform. \n",
    "* drop the following columns from the dataset - id, zip, county"
   ]
  },
  {
   "cell_type": "code",
   "execution_count": 32,
   "metadata": {},
   "outputs": [
    {
     "data": {
      "text/html": [
       "<div>\n",
       "<style scoped>\n",
       "    .dataframe tbody tr th:only-of-type {\n",
       "        vertical-align: middle;\n",
       "    }\n",
       "\n",
       "    .dataframe tbody tr th {\n",
       "        vertical-align: top;\n",
       "    }\n",
       "\n",
       "    .dataframe thead th {\n",
       "        text-align: right;\n",
       "    }\n",
       "</style>\n",
       "<table border=\"1\" class=\"dataframe\">\n",
       "  <thead>\n",
       "    <tr style=\"text-align: right;\">\n",
       "      <th></th>\n",
       "      <th>poverty</th>\n",
       "      <th>price2007</th>\n",
       "      <th>price2013</th>\n",
       "      <th>state_AK</th>\n",
       "      <th>state_AL</th>\n",
       "      <th>state_AR</th>\n",
       "      <th>state_AZ</th>\n",
       "      <th>state_CA</th>\n",
       "      <th>state_CO</th>\n",
       "      <th>state_CT</th>\n",
       "      <th>...</th>\n",
       "      <th>county_yadkin</th>\n",
       "      <th>county_yakima</th>\n",
       "      <th>county_yamhill</th>\n",
       "      <th>county_yates</th>\n",
       "      <th>county_yavapai</th>\n",
       "      <th>county_yellowstone</th>\n",
       "      <th>county_yolo</th>\n",
       "      <th>county_york</th>\n",
       "      <th>county_yuba</th>\n",
       "      <th>county_yuma</th>\n",
       "    </tr>\n",
       "  </thead>\n",
       "  <tbody>\n",
       "    <tr>\n",
       "      <th>0</th>\n",
       "      <td>27.1</td>\n",
       "      <td>335200</td>\n",
       "      <td>294000.0</td>\n",
       "      <td>0</td>\n",
       "      <td>0</td>\n",
       "      <td>0</td>\n",
       "      <td>0</td>\n",
       "      <td>0</td>\n",
       "      <td>0</td>\n",
       "      <td>0</td>\n",
       "      <td>...</td>\n",
       "      <td>0</td>\n",
       "      <td>0</td>\n",
       "      <td>0</td>\n",
       "      <td>0</td>\n",
       "      <td>0</td>\n",
       "      <td>0</td>\n",
       "      <td>0</td>\n",
       "      <td>0</td>\n",
       "      <td>0</td>\n",
       "      <td>0</td>\n",
       "    </tr>\n",
       "    <tr>\n",
       "      <th>1</th>\n",
       "      <td>21.9</td>\n",
       "      <td>471500</td>\n",
       "      <td>471600.0</td>\n",
       "      <td>0</td>\n",
       "      <td>0</td>\n",
       "      <td>0</td>\n",
       "      <td>0</td>\n",
       "      <td>0</td>\n",
       "      <td>0</td>\n",
       "      <td>0</td>\n",
       "      <td>...</td>\n",
       "      <td>0</td>\n",
       "      <td>0</td>\n",
       "      <td>0</td>\n",
       "      <td>0</td>\n",
       "      <td>0</td>\n",
       "      <td>0</td>\n",
       "      <td>0</td>\n",
       "      <td>0</td>\n",
       "      <td>0</td>\n",
       "      <td>0</td>\n",
       "    </tr>\n",
       "    <tr>\n",
       "      <th>2</th>\n",
       "      <td>14.6</td>\n",
       "      <td>254600</td>\n",
       "      <td>174200.0</td>\n",
       "      <td>0</td>\n",
       "      <td>0</td>\n",
       "      <td>0</td>\n",
       "      <td>0</td>\n",
       "      <td>0</td>\n",
       "      <td>0</td>\n",
       "      <td>0</td>\n",
       "      <td>...</td>\n",
       "      <td>0</td>\n",
       "      <td>0</td>\n",
       "      <td>0</td>\n",
       "      <td>0</td>\n",
       "      <td>0</td>\n",
       "      <td>0</td>\n",
       "      <td>0</td>\n",
       "      <td>0</td>\n",
       "      <td>0</td>\n",
       "      <td>0</td>\n",
       "    </tr>\n",
       "    <tr>\n",
       "      <th>3</th>\n",
       "      <td>10.6</td>\n",
       "      <td>707100</td>\n",
       "      <td>822600.0</td>\n",
       "      <td>0</td>\n",
       "      <td>0</td>\n",
       "      <td>0</td>\n",
       "      <td>0</td>\n",
       "      <td>1</td>\n",
       "      <td>0</td>\n",
       "      <td>0</td>\n",
       "      <td>...</td>\n",
       "      <td>0</td>\n",
       "      <td>0</td>\n",
       "      <td>0</td>\n",
       "      <td>0</td>\n",
       "      <td>0</td>\n",
       "      <td>0</td>\n",
       "      <td>0</td>\n",
       "      <td>0</td>\n",
       "      <td>0</td>\n",
       "      <td>0</td>\n",
       "    </tr>\n",
       "    <tr>\n",
       "      <th>4</th>\n",
       "      <td>12.2</td>\n",
       "      <td>636400</td>\n",
       "      <td>681500.0</td>\n",
       "      <td>0</td>\n",
       "      <td>0</td>\n",
       "      <td>0</td>\n",
       "      <td>0</td>\n",
       "      <td>0</td>\n",
       "      <td>0</td>\n",
       "      <td>0</td>\n",
       "      <td>...</td>\n",
       "      <td>0</td>\n",
       "      <td>0</td>\n",
       "      <td>0</td>\n",
       "      <td>0</td>\n",
       "      <td>0</td>\n",
       "      <td>0</td>\n",
       "      <td>0</td>\n",
       "      <td>0</td>\n",
       "      <td>0</td>\n",
       "      <td>0</td>\n",
       "    </tr>\n",
       "  </tbody>\n",
       "</table>\n",
       "<p>5 rows × 683 columns</p>\n",
       "</div>"
      ],
      "text/plain": [
       "   poverty  price2007  price2013  state_AK  state_AL  state_AR  state_AZ  \\\n",
       "0     27.1     335200   294000.0         0         0         0         0   \n",
       "1     21.9     471500   471600.0         0         0         0         0   \n",
       "2     14.6     254600   174200.0         0         0         0         0   \n",
       "3     10.6     707100   822600.0         0         0         0         0   \n",
       "4     12.2     636400   681500.0         0         0         0         0   \n",
       "\n",
       "   state_CA  state_CO  state_CT  ...  county_yadkin  county_yakima  \\\n",
       "0         0         0         0  ...              0              0   \n",
       "1         0         0         0  ...              0              0   \n",
       "2         0         0         0  ...              0              0   \n",
       "3         1         0         0  ...              0              0   \n",
       "4         0         0         0  ...              0              0   \n",
       "\n",
       "   county_yamhill  county_yates  county_yavapai  county_yellowstone  \\\n",
       "0               0             0               0                   0   \n",
       "1               0             0               0                   0   \n",
       "2               0             0               0                   0   \n",
       "3               0             0               0                   0   \n",
       "4               0             0               0                   0   \n",
       "\n",
       "   county_yolo  county_york  county_yuba  county_yuma  \n",
       "0            0            0            0            0  \n",
       "1            0            0            0            0  \n",
       "2            0            0            0            0  \n",
       "3            0            0            0            0  \n",
       "4            0            0            0            0  \n",
       "\n",
       "[5 rows x 683 columns]"
      ]
     },
     "execution_count": 32,
     "metadata": {},
     "output_type": "execute_result"
    }
   ],
   "source": [
    "dataset = pd.concat(objs=[train_data,  test_data], axis=0)\n",
    "dataset = dataset.drop(columns=['id', 'zip'], axis=1)\n",
    "encoded_states = pd.get_dummies(data=dataset, columns=['state', 'county'])\n",
    "encoded_states.head()"
   ]
  },
  {
   "cell_type": "markdown",
   "metadata": {},
   "source": [
    "### Training and testing data"
   ]
  },
  {
   "cell_type": "code",
   "execution_count": 33,
   "metadata": {},
   "outputs": [],
   "source": [
    "train = encoded_states[:int(num_train)]\n",
    "test = encoded_states[int(num_train):]\n",
    "\n",
    "train_y = train['price2013']\n",
    "train_x = train.drop(columns=['price2013'], axis=1)\n",
    "\n",
    "test_y = test['price2013']\n",
    "test_x = test.drop(columns=['price2013'], axis=1)\n"
   ]
  },
  {
   "cell_type": "markdown",
   "metadata": {},
   "source": [
    "### Train the model\n"
   ]
  },
  {
   "cell_type": "code",
   "execution_count": 34,
   "metadata": {},
   "outputs": [
    {
     "data": {
      "text/plain": [
       "LinearRegression()"
      ]
     },
     "execution_count": 34,
     "metadata": {},
     "output_type": "execute_result"
    }
   ],
   "source": [
    "model = LinearRegression()\n",
    "model.fit(train_x,train_y)"
   ]
  },
  {
   "cell_type": "markdown",
   "metadata": {},
   "source": [
    "### Prediction"
   ]
  },
  {
   "cell_type": "code",
   "execution_count": 35,
   "metadata": {},
   "outputs": [],
   "source": [
    "prediction = model.predict(test_x)\n",
    "prediction = [int(round(i)) for i in prediction]"
   ]
  },
  {
   "cell_type": "code",
   "execution_count": 36,
   "metadata": {},
   "outputs": [],
   "source": [
    "submission = pd.DataFrame()\n",
    "submission['id'] = test_data['id']\n",
    "submission['prediction'] = prediction\n",
    "submission.to_csv('final.csv', index=False)"
   ]
  },
  {
   "cell_type": "code",
   "execution_count": null,
   "metadata": {},
   "outputs": [],
   "source": []
  }
 ],
 "metadata": {
  "kernelspec": {
   "display_name": "Python 3",
   "language": "python",
   "name": "python3"
  },
  "language_info": {
   "codemirror_mode": {
    "name": "ipython",
    "version": 3
   },
   "file_extension": ".py",
   "mimetype": "text/x-python",
   "name": "python",
   "nbconvert_exporter": "python",
   "pygments_lexer": "ipython3",
   "version": "3.8.3"
  }
 },
 "nbformat": 4,
 "nbformat_minor": 4
}
